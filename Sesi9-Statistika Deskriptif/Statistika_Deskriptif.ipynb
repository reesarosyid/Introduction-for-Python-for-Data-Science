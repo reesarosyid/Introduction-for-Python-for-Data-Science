{
 "cells": [
  {
   "cell_type": "markdown",
   "id": "64571748",
   "metadata": {},
   "source": [
    " Nama : Muhammad Reesa Rosyid\n",
    " \n",
    " Program : Python for Data Science"
   ]
  },
  {
   "cell_type": "markdown",
   "id": "36dfe425",
   "metadata": {},
   "source": [
    "# Statistika Deskriptif"
   ]
  },
  {
   "cell_type": "markdown",
   "id": "c17e4e42",
   "metadata": {},
   "source": [
    "### Definisi\n",
    "Statistika deskriptif adalah statistik yang digunakan untuk menganalisis data dengan cara mendeskripsikan atau menggambarkan data yang telah terkumpul sebagaimana adanya tanpa bermaksud membuat kesimpulan yang berlaku secara umum.\n",
    "\n",
    "### Tipe Statistik Deskriptif\n",
    "\n",
    "Di dalam statistika deskriptif terdapat dua tipe yaitu **Measures of central tendency** dan **Measures of variability (spread)**.\n",
    "\n",
    "### Populasi Dan Sample\n",
    "\n",
    "Pada statistik juga terdapat yang namanya populasi dan sample. **Populasi** adalah keseluruhan dari subjek penelitian, sedangkan sampel adalah sebagian dari populasi tersebut. **Sampel** adalah bagian dari populasi yang memiliki karakteristik mirip dengan populasi itu sendiri. Sampel disebut juga contoh. Nilai hitungan yang diperoleh dari sampel inilah yang disebut dengan statistik.\n",
    "\n",
    "### Outlier\n",
    "\n",
    "**Outlier** merupakan data yang memiliki karakteristik yang berbeda jauh dari observasi-observasi lainnya dan muncul dalam bentuk nilai ekstrim baik untuk variabel tunggal atau variabel kombinasi."
   ]
  },
  {
   "cell_type": "markdown",
   "id": "85e24ec3",
   "metadata": {},
   "source": [
    "### Import Library"
   ]
  },
  {
   "cell_type": "code",
   "execution_count": 1,
   "id": "736482c4",
   "metadata": {},
   "outputs": [],
   "source": [
    "import math\n",
    "import statistics\n",
    "import numpy as np\n",
    "import scipy.stats\n",
    "import pandas as pd"
   ]
  },
  {
   "cell_type": "markdown",
   "id": "e112186f",
   "metadata": {},
   "source": [
    "## Measure of Central Tendency\n",
    "\n",
    "Central Tendency mengacu pada gagasan bahwa ada satu bilangan yang paling baik untuk meringkas seluruh rangkaian pengukuran, sebuah bilangan yang dalam beberapa hal merupakan central dari himpunan tersebut.\n",
    "\n",
    "Dalam measure of central tendency terdapat:\n",
    "* Mean\n",
    "* Median\n",
    "* Modus"
   ]
  },
  {
   "cell_type": "markdown",
   "id": "ad2e873f",
   "metadata": {},
   "source": [
    "### Mean\n",
    "\n",
    "Mean adalah salah satu ukuran gejala pusat. Mean dapat dikatakan sebagai wakil kumpulan data. Menentukan mean dapat dilakukan dengan cara menjumlahkan seluruh nilai data, kemudian membaginya dengan banyaknya data.\n",
    "\n",
    "Rumus :\n",
    "\n",
    "$$\\overline{x}=\\frac{1}{n} \\sum_{i=1}^{n} x_{i}=\\frac{1}{n}\\left(x_{1}+\\cdots+x_{n}\\right)$$\n",
    "\n",
    "#### Implementasi pada Python"
   ]
  },
  {
   "cell_type": "markdown",
   "id": "ae163ffa",
   "metadata": {},
   "source": [
    "**Membuat variable contoh**"
   ]
  },
  {
   "cell_type": "code",
   "execution_count": 2,
   "id": "9e8384f5",
   "metadata": {},
   "outputs": [
    {
     "name": "stdout",
     "output_type": "stream",
     "text": [
      "[8.0, 1, 2.5, 4, 28.0]\n",
      "[8.0, 1, 2.5, nan, 4, 28.0]\n"
     ]
    }
   ],
   "source": [
    "x = [8.0, 1, 2.5, 4, 28.0]\n",
    "x_with_nan = [8.0, 1, 2.5, math.nan, 4, 28.0]\n",
    "\n",
    "print(x)\n",
    "print(x_with_nan)"
   ]
  },
  {
   "cell_type": "code",
   "execution_count": 3,
   "id": "755f1bae",
   "metadata": {},
   "outputs": [
    {
     "name": "stdout",
     "output_type": "stream",
     "text": [
      "[ 8.   1.   2.5  4.  28. ]\n",
      "[ 8.   1.   2.5  nan  4.  28. ]\n",
      "0     8.0\n",
      "1     1.0\n",
      "2     2.5\n",
      "3     4.0\n",
      "4    28.0\n",
      "dtype: float64\n",
      "0     8.0\n",
      "1     1.0\n",
      "2     2.5\n",
      "3     NaN\n",
      "4     4.0\n",
      "5    28.0\n",
      "dtype: float64\n"
     ]
    }
   ],
   "source": [
    "y, y_with_nan = np.array(x), np.array(x_with_nan)\n",
    "z, z_with_nan = pd.Series(x), pd.Series(x_with_nan)\n",
    "print(y)\n",
    "print(y_with_nan)\n",
    "print(z)\n",
    "print(z_with_nan)"
   ]
  },
  {
   "cell_type": "markdown",
   "id": "7b6f704c",
   "metadata": {},
   "source": [
    "**Implementasi**"
   ]
  },
  {
   "cell_type": "code",
   "execution_count": 4,
   "id": "e8ad478f",
   "metadata": {},
   "outputs": [
    {
     "data": {
      "text/plain": [
       "8.7"
      ]
     },
     "execution_count": 4,
     "metadata": {},
     "output_type": "execute_result"
    }
   ],
   "source": [
    "# Menggunakan python vanila\n",
    "mean_ = sum(x)/len(x)\n",
    "mean_"
   ]
  },
  {
   "cell_type": "code",
   "execution_count": 5,
   "id": "66751252",
   "metadata": {},
   "outputs": [
    {
     "data": {
      "text/plain": [
       "8.7"
      ]
     },
     "execution_count": 5,
     "metadata": {},
     "output_type": "execute_result"
    }
   ],
   "source": [
    "# Menggunakan lib statistics\n",
    "mean_ = statistics.mean(x)\n",
    "mean_"
   ]
  },
  {
   "cell_type": "code",
   "execution_count": 6,
   "id": "ddc197c8",
   "metadata": {},
   "outputs": [
    {
     "data": {
      "text/plain": [
       "nan"
      ]
     },
     "execution_count": 6,
     "metadata": {},
     "output_type": "execute_result"
    }
   ],
   "source": [
    "# Library statistics tidak dapat memproses apabila ada nan\n",
    "mean_1 = statistics.mean(x_with_nan)\n",
    "mean_1"
   ]
  },
  {
   "cell_type": "code",
   "execution_count": 7,
   "id": "052ce5ee",
   "metadata": {},
   "outputs": [
    {
     "data": {
      "text/plain": [
       "8.7"
      ]
     },
     "execution_count": 7,
     "metadata": {},
     "output_type": "execute_result"
    }
   ],
   "source": [
    "# Menggunakan Numpy\n",
    "mean_ = y.mean()\n",
    "mean_"
   ]
  },
  {
   "cell_type": "code",
   "execution_count": 8,
   "id": "6326cf93",
   "metadata": {},
   "outputs": [
    {
     "data": {
      "text/plain": [
       "nan"
      ]
     },
     "execution_count": 8,
     "metadata": {},
     "output_type": "execute_result"
    }
   ],
   "source": [
    "# Numpy juga tidak dapat memproses nan\n",
    "mean_1 = y_with_nan.mean()\n",
    "mean_1"
   ]
  },
  {
   "cell_type": "code",
   "execution_count": 9,
   "id": "e9c198e0",
   "metadata": {},
   "outputs": [
    {
     "data": {
      "text/plain": [
       "8.7"
      ]
     },
     "execution_count": 9,
     "metadata": {},
     "output_type": "execute_result"
    }
   ],
   "source": [
    "# Kecuali menggunakan fungsi kusus .nanmean()\n",
    "mean_1 = np.nanmean(y_with_nan)\n",
    "mean_1"
   ]
  },
  {
   "cell_type": "markdown",
   "id": "2909529b",
   "metadata": {},
   "source": [
    "### Median\n",
    "\n",
    "Median memiliki pengertian sebagai nilai data tengah. Penyajian data yang dimaksud lebih kepada hasil dari penelitian. Biasanya data tersebut disajikan dalam bentuk tabel, diagram ataupun daftar dan kerap disebut sebagai statistik."
   ]
  },
  {
   "cell_type": "markdown",
   "id": "6b0e7ee2",
   "metadata": {},
   "source": [
    "#### Implementasi pada Python\n",
    "\n",
    "**Membuat variable contoh**"
   ]
  },
  {
   "cell_type": "code",
   "execution_count": 10,
   "id": "2685b38a",
   "metadata": {},
   "outputs": [
    {
     "name": "stdout",
     "output_type": "stream",
     "text": [
      "[8.0, 1, 2.5, 4, 28.0]\n",
      "[8.0, 1, 2.5, nan, 4, 28.0]\n"
     ]
    }
   ],
   "source": [
    "x = [8.0, 1, 2.5, 4, 28.0]\n",
    "x_with_nan = [8.0, 1, 2.5, math.nan, 4, 28.0]\n",
    "\n",
    "print(x)\n",
    "print(x_with_nan)"
   ]
  },
  {
   "cell_type": "code",
   "execution_count": 11,
   "id": "dd197cbf",
   "metadata": {},
   "outputs": [
    {
     "name": "stdout",
     "output_type": "stream",
     "text": [
      "[ 8.   1.   2.5  4.  28. ]\n",
      "[ 8.   1.   2.5  nan  4.  28. ]\n",
      "0     8.0\n",
      "1     1.0\n",
      "2     2.5\n",
      "3     4.0\n",
      "4    28.0\n",
      "dtype: float64\n",
      "0     8.0\n",
      "1     1.0\n",
      "2     2.5\n",
      "3     NaN\n",
      "4     4.0\n",
      "5    28.0\n",
      "dtype: float64\n"
     ]
    }
   ],
   "source": [
    "y, y_with_nan = np.array(x), np.array(x_with_nan)\n",
    "z, z_with_nan = pd.Series(x), pd.Series(x_with_nan)\n",
    "print(y)\n",
    "print(y_with_nan)\n",
    "print(z)\n",
    "print(z_with_nan)"
   ]
  },
  {
   "cell_type": "markdown",
   "id": "7df12139",
   "metadata": {},
   "source": [
    "**Implementasi**"
   ]
  },
  {
   "cell_type": "code",
   "execution_count": 12,
   "id": "32965c50",
   "metadata": {},
   "outputs": [
    {
     "data": {
      "text/plain": [
       "4"
      ]
     },
     "execution_count": 12,
     "metadata": {},
     "output_type": "execute_result"
    }
   ],
   "source": [
    "# Menggunakan python vanila\n",
    "n = len(x)\n",
    "if n%2:\n",
    "    median_ = sorted(x)[round(0.5*(n-1))]\n",
    "else:\n",
    "    x_ord, index = sorted(x), round(0.5*(n))\n",
    "    median_ = 0.5 * (x_ord[index-1]+x_ord[index])\n",
    "    \n",
    "median_"
   ]
  },
  {
   "cell_type": "code",
   "execution_count": 13,
   "id": "d6b58cb4",
   "metadata": {},
   "outputs": [
    {
     "data": {
      "text/plain": [
       "4"
      ]
     },
     "execution_count": 13,
     "metadata": {},
     "output_type": "execute_result"
    }
   ],
   "source": [
    "# Menggunakan lib statistics\n",
    "median_ = statistics.median(x)\n",
    "median_"
   ]
  },
  {
   "cell_type": "code",
   "execution_count": 14,
   "id": "f0db26d8",
   "metadata": {},
   "outputs": [
    {
     "name": "stdout",
     "output_type": "stream",
     "text": [
      "4\n"
     ]
    }
   ],
   "source": [
    "#Menggunakan numpy\n",
    "mean_ = np.median(y)\n",
    "print(median_)"
   ]
  },
  {
   "cell_type": "markdown",
   "id": "1a99f51d",
   "metadata": {},
   "source": [
    "### Mode\n",
    "\n",
    "Modus adalah data yang paling sering muncul. Modus merupakan ukuran pemusatan untuk menyatakan fenomena yang paling banyak terjadi. Sekumpulan data yang diperoleh, memungkinkan untuk memiliki nilai modus yang tidak tunggal atau mungkin juga tidak memilikinya.\n",
    "\n",
    "#### Implementasi Pada Python\n",
    "\n",
    "**Membuat variable contoh**"
   ]
  },
  {
   "cell_type": "code",
   "execution_count": 15,
   "id": "03337384",
   "metadata": {},
   "outputs": [
    {
     "name": "stdout",
     "output_type": "stream",
     "text": [
      "[2, 3, 2, 8, 12]\n",
      "[12, 15, 12, 15, 21, 15, 12]\n"
     ]
    }
   ],
   "source": [
    "u = [2,3,2,8,12]\n",
    "v = [12,15,12,15,21,15,12]\n",
    "print(u)\n",
    "print(v)"
   ]
  },
  {
   "cell_type": "markdown",
   "id": "0e6cd2b4",
   "metadata": {},
   "source": [
    "**Implementasi**"
   ]
  },
  {
   "cell_type": "code",
   "execution_count": 16,
   "id": "b92465c6",
   "metadata": {},
   "outputs": [
    {
     "data": {
      "text/plain": [
       "2"
      ]
     },
     "execution_count": 16,
     "metadata": {},
     "output_type": "execute_result"
    }
   ],
   "source": [
    "# Menggunakan python Vanila\n",
    "mode_ = max((u.count(item), item)for item in set(u))[1]\n",
    "mode_"
   ]
  },
  {
   "cell_type": "code",
   "execution_count": 17,
   "id": "52817506",
   "metadata": {},
   "outputs": [
    {
     "data": {
      "text/plain": [
       "2"
      ]
     },
     "execution_count": 17,
     "metadata": {},
     "output_type": "execute_result"
    }
   ],
   "source": [
    "# Menggunakan lib Statistic dengan statistics.mode()\n",
    "\n",
    "mode_ = statistics.mode(u)\n",
    "mode_"
   ]
  },
  {
   "cell_type": "code",
   "execution_count": 18,
   "id": "91989869",
   "metadata": {},
   "outputs": [
    {
     "data": {
      "text/plain": [
       "ModeResult(mode=array([2]), count=array([2]))"
      ]
     },
     "execution_count": 18,
     "metadata": {},
     "output_type": "execute_result"
    }
   ],
   "source": [
    "# Menggunakan scipy dengan scipy.stats.mode()\n",
    "\n",
    "u,v = np.array(u), np.array(v)\n",
    "mode_ = scipy.stats.mode(u)\n",
    "mode_"
   ]
  },
  {
   "cell_type": "code",
   "execution_count": 19,
   "id": "16482a69",
   "metadata": {},
   "outputs": [
    {
     "name": "stdout",
     "output_type": "stream",
     "text": [
      "0    2\n",
      "dtype: int32\n",
      "0    12\n",
      "1    15\n",
      "dtype: int32\n",
      "0    2.0\n",
      "dtype: float64\n"
     ]
    }
   ],
   "source": [
    "# Menggunakan Pandas\n",
    "u,v,w = pd.Series(u), pd.Series(v), pd.Series([2,2, math.nan])\n",
    "\n",
    "print(u.mode())\n",
    "print(v.mode())\n",
    "print(w.mode())"
   ]
  },
  {
   "cell_type": "markdown",
   "id": "6149c797",
   "metadata": {},
   "source": [
    "## Measure of Variability\n",
    "\n",
    " dapat didefinisikan sebagai suatu pengukuran nilai yang dapat digunakan untuk merepresentasikan keberagaman atau sebaran data. Di dalam measure of variability terdapat:\n",
    " * Variance\n",
    " * Standard deviation\n",
    " * Skewness\n",
    " * Percentiles\n",
    " * Ranges\n",
    " \n",
    "### Variance\n",
    "\n",
    "Dalam teori probabilitas dan statistika, varians (dari bahasa Inggris: variance) atau ragam suatu peubah acak (atau distribusi probabilitas) adalah ukuran seberapa jauh sebuah kumpulan bilangan tersebar. Varians nol mengindikasikan bahwa semua nilai sama.\n",
    "\n",
    "Rumus : \n",
    "\n",
    "$$S^2 = \\frac{\\sum_{i=1}^{n}(x_i - \\overline{x})^2} {n-1}$$\n",
    "\n",
    "#### Implementasi pada Python\n",
    "\n",
    "**Membuat variable contoh**"
   ]
  },
  {
   "cell_type": "code",
   "execution_count": 20,
   "id": "0f03ecf6",
   "metadata": {},
   "outputs": [
    {
     "name": "stdout",
     "output_type": "stream",
     "text": [
      "[8.0, 1, 2.5, 4, 28.0]\n",
      "[8.0, 1, 2.5, nan, 4, 28.0]\n"
     ]
    }
   ],
   "source": [
    "x = [8.0, 1, 2.5, 4, 28.0]\n",
    "x_with_nan = [8.0, 1, 2.5, math.nan, 4, 28.0]\n",
    "\n",
    "print(x)\n",
    "print(x_with_nan)"
   ]
  },
  {
   "cell_type": "code",
   "execution_count": 21,
   "id": "1901821f",
   "metadata": {},
   "outputs": [
    {
     "name": "stdout",
     "output_type": "stream",
     "text": [
      "[ 8.   1.   2.5  4.  28. ]\n",
      "[ 8.   1.   2.5  nan  4.  28. ]\n",
      "0     8.0\n",
      "1     1.0\n",
      "2     2.5\n",
      "3     4.0\n",
      "4    28.0\n",
      "dtype: float64\n",
      "0     8.0\n",
      "1     1.0\n",
      "2     2.5\n",
      "3     NaN\n",
      "4     4.0\n",
      "5    28.0\n",
      "dtype: float64\n"
     ]
    }
   ],
   "source": [
    "y, y_with_nan = np.array(x), np.array(x_with_nan)\n",
    "z, z_with_nan = pd.Series(x), pd.Series(x_with_nan)\n",
    "print(y)\n",
    "print(y_with_nan)\n",
    "print(z)\n",
    "print(z_with_nan)"
   ]
  },
  {
   "cell_type": "markdown",
   "id": "1f9ef81a",
   "metadata": {},
   "source": [
    "**Implementasi**"
   ]
  },
  {
   "cell_type": "code",
   "execution_count": 22,
   "id": "ee365ecb",
   "metadata": {},
   "outputs": [
    {
     "data": {
      "text/plain": [
       "123.19999999999999"
      ]
     },
     "execution_count": 22,
     "metadata": {},
     "output_type": "execute_result"
    }
   ],
   "source": [
    "# Menggunakan python vanila\n",
    "mean_ = sum(x)/len(x)\n",
    "var_ = sum((item-mean_)**2 for item in x) /(n-1)\n",
    "var_"
   ]
  },
  {
   "cell_type": "code",
   "execution_count": 23,
   "id": "2ba21f37",
   "metadata": {},
   "outputs": [
    {
     "data": {
      "text/plain": [
       "123.2"
      ]
     },
     "execution_count": 23,
     "metadata": {},
     "output_type": "execute_result"
    }
   ],
   "source": [
    "# Menggunakan lib statistic\n",
    "var_ = statistics.variance(x)\n",
    "var_"
   ]
  },
  {
   "cell_type": "code",
   "execution_count": 24,
   "id": "343a9cc8",
   "metadata": {},
   "outputs": [
    {
     "data": {
      "text/plain": [
       "123.19999999999999"
      ]
     },
     "execution_count": 24,
     "metadata": {},
     "output_type": "execute_result"
    }
   ],
   "source": [
    "# Menggunakan Numpy\n",
    "var_ = y.var(ddof=1)\n",
    "var_"
   ]
  },
  {
   "cell_type": "code",
   "execution_count": 25,
   "id": "1e3aca73",
   "metadata": {},
   "outputs": [
    {
     "data": {
      "text/plain": [
       "123.19999999999999"
      ]
     },
     "execution_count": 25,
     "metadata": {},
     "output_type": "execute_result"
    }
   ],
   "source": [
    "# Menggunakan Pandas\n",
    "z.var(ddof=1)"
   ]
  },
  {
   "cell_type": "markdown",
   "id": "d10352ac",
   "metadata": {},
   "source": [
    "### Standard Deviation\n",
    "\n",
    "Standar deviasi adalah nilai akar kuadrat dari suatu varians dimana digunakan untuk menilai rata-rata atau yang diharapkan.\n",
    "\n",
    "Rumus :\n",
    "$$S = \\sqrt{\\frac{1}{N-1} \\sum_{i=1}^N (x_i - \\overline{x})^2}$$\n",
    "\n",
    "#### Implementasi pada Python\n",
    "\n",
    "**Membuat variable contoh**"
   ]
  },
  {
   "cell_type": "code",
   "execution_count": 26,
   "id": "ca426241",
   "metadata": {},
   "outputs": [
    {
     "name": "stdout",
     "output_type": "stream",
     "text": [
      "[8.0, 1, 2.5, 4, 28.0]\n",
      "[8.0, 1, 2.5, nan, 4, 28.0]\n"
     ]
    }
   ],
   "source": [
    "x = [8.0, 1, 2.5, 4, 28.0]\n",
    "x_with_nan = [8.0, 1, 2.5, math.nan, 4, 28.0]\n",
    "\n",
    "print(x)\n",
    "print(x_with_nan)"
   ]
  },
  {
   "cell_type": "code",
   "execution_count": 27,
   "id": "85ccf0bd",
   "metadata": {},
   "outputs": [
    {
     "name": "stdout",
     "output_type": "stream",
     "text": [
      "[ 8.   1.   2.5  4.  28. ]\n",
      "[ 8.   1.   2.5  nan  4.  28. ]\n",
      "0     8.0\n",
      "1     1.0\n",
      "2     2.5\n",
      "3     4.0\n",
      "4    28.0\n",
      "dtype: float64\n",
      "0     8.0\n",
      "1     1.0\n",
      "2     2.5\n",
      "3     NaN\n",
      "4     4.0\n",
      "5    28.0\n",
      "dtype: float64\n"
     ]
    }
   ],
   "source": [
    "y, y_with_nan = np.array(x), np.array(x_with_nan)\n",
    "z, z_with_nan = pd.Series(x), pd.Series(x_with_nan)\n",
    "print(y)\n",
    "print(y_with_nan)\n",
    "print(z)\n",
    "print(z_with_nan)"
   ]
  },
  {
   "cell_type": "markdown",
   "id": "e6a8e70d",
   "metadata": {},
   "source": [
    "**Implementasi**"
   ]
  },
  {
   "cell_type": "code",
   "execution_count": 28,
   "id": "0d3c1b87",
   "metadata": {},
   "outputs": [
    {
     "data": {
      "text/plain": [
       "11.099549540409285"
      ]
     },
     "execution_count": 28,
     "metadata": {},
     "output_type": "execute_result"
    }
   ],
   "source": [
    "# Menggunakan python vanila\n",
    "mean_ = sum(x)/len(x)\n",
    "var_ = sum((item-mean_)**2 for item in x) /(n-1)\n",
    "std_ = var_**0.5\n",
    "std_"
   ]
  },
  {
   "cell_type": "code",
   "execution_count": 30,
   "id": "6301584e",
   "metadata": {},
   "outputs": [
    {
     "data": {
      "text/plain": [
       "11.099549540409287"
      ]
     },
     "execution_count": 30,
     "metadata": {},
     "output_type": "execute_result"
    }
   ],
   "source": [
    "# Menggunakan lib statistics\n",
    "std_ = statistics.stdev(x)\n",
    "std_"
   ]
  },
  {
   "cell_type": "code",
   "execution_count": 31,
   "id": "79393de5",
   "metadata": {},
   "outputs": [
    {
     "data": {
      "text/plain": [
       "11.099549540409285"
      ]
     },
     "execution_count": 31,
     "metadata": {},
     "output_type": "execute_result"
    }
   ],
   "source": [
    "# Menggunakan Numpy\n",
    "np.std(y, ddof=1)"
   ]
  },
  {
   "cell_type": "code",
   "execution_count": 32,
   "id": "db3e307c",
   "metadata": {},
   "outputs": [
    {
     "data": {
      "text/plain": [
       "11.099549540409285"
      ]
     },
     "execution_count": 32,
     "metadata": {},
     "output_type": "execute_result"
    }
   ],
   "source": [
    "y.std(ddof=1)"
   ]
  },
  {
   "cell_type": "code",
   "execution_count": 33,
   "id": "4e35e695",
   "metadata": {},
   "outputs": [
    {
     "data": {
      "text/plain": [
       "11.099549540409285"
      ]
     },
     "execution_count": 33,
     "metadata": {},
     "output_type": "execute_result"
    }
   ],
   "source": [
    "# Menggunakan Pandas\n",
    "z.std(ddof=1)"
   ]
  },
  {
   "cell_type": "markdown",
   "id": "70d65b56",
   "metadata": {},
   "source": [
    "### Skewness\n",
    "\n",
    "Kemencengan atau kecondongan (skewness) adalah tingkat ketidaksimetrisan atau kejauhan simetri dari sebuah distribusi. Skewness diartikan sebagai kemiringan distribusi data. Sebuah distribusi yang tidak simetris akan memiliki rata-rata, median, dan modus yang tidak sama besarnya sehingga distribusi akan terkonsentrasi pada salah satu sisi dan kurvanya akan menceng. Ukuran kemiringan kurva adalah derajat atau ukuran dari ketidaksimetrian suatu distribusi data. Nilai skewness (ukuran kemiringan) menunjukkan data normal ketika nilai-nilai tersebut berada di antara rentang nilai -2 sampai dengan 2. Kurva positif apabila rata-rata hitung > modus/median. Kurva negative apabila rata-rata hitung < modus/media. Jika distribusi memiliki ekor yang lebih panjang ke kanan daripada yang ke kiri maka distribusi disebut menceng ke kanan atau memiliki kemencengan positif. Sebaliknya, jika distribusi memiliki ekor yang lebih panjang ke kiri daripada yang ke kanan maka distribusi disebut menceng ke kiri atau memiliki kemencengan negatif. Berikut ini gambar kurva dari distribusi yang menceng ke kanan (menceng positif) dan menceng ke kiri (menceng negatif) (Ghozali, 2016).\n",
    "\n",
    "Kriteria untuk mengetahui model distribusi dari koefisien kemiringan :\n",
    "* Jika koefisien kemiringan <nol, maka bentuk distribusinya negative (ekor bagian kiri lebih Panjang).\n",
    "* Jika koefisien kemiringan = nol, maka bentuk distribusinya simetrik.\n",
    "* Jika koefisien kemiringan > nol, maka bentuk distribusinya positif (ekor bagian kanan lebih Panjang).\n",
    "\n",
    "Rumus :\n",
    "\n",
    "$$Sk=\\frac{1}{N}\\sum_{i=1}^{N}\\frac{(x_i-\\overline{x})^3}{\\sigma^3}$$"
   ]
  },
  {
   "cell_type": "markdown",
   "id": "a6ec549f",
   "metadata": {},
   "source": [
    "#### Implementasi Pada Python\n",
    "\n",
    "**Membuat variable contoh**"
   ]
  },
  {
   "cell_type": "code",
   "execution_count": 34,
   "id": "10e53efa",
   "metadata": {},
   "outputs": [
    {
     "name": "stdout",
     "output_type": "stream",
     "text": [
      "[8.0, 1, 2.5, 4, 28.0]\n",
      "[8.0, 1, 2.5, nan, 4, 28.0]\n"
     ]
    }
   ],
   "source": [
    "x = [8.0, 1, 2.5, 4, 28.0]\n",
    "x_with_nan = [8.0, 1, 2.5, math.nan, 4, 28.0]\n",
    "\n",
    "print(x)\n",
    "print(x_with_nan)"
   ]
  },
  {
   "cell_type": "code",
   "execution_count": 35,
   "id": "1909fe05",
   "metadata": {},
   "outputs": [
    {
     "name": "stdout",
     "output_type": "stream",
     "text": [
      "[ 8.   1.   2.5  4.  28. ]\n",
      "[ 8.   1.   2.5  nan  4.  28. ]\n",
      "0     8.0\n",
      "1     1.0\n",
      "2     2.5\n",
      "3     4.0\n",
      "4    28.0\n",
      "dtype: float64\n",
      "0     8.0\n",
      "1     1.0\n",
      "2     2.5\n",
      "3     NaN\n",
      "4     4.0\n",
      "5    28.0\n",
      "dtype: float64\n"
     ]
    }
   ],
   "source": [
    "y, y_with_nan = np.array(x), np.array(x_with_nan)\n",
    "z, z_with_nan = pd.Series(x), pd.Series(x_with_nan)\n",
    "print(y)\n",
    "print(y_with_nan)\n",
    "print(z)\n",
    "print(z_with_nan)"
   ]
  },
  {
   "cell_type": "markdown",
   "id": "6dcb2920",
   "metadata": {},
   "source": [
    "**Implementasi**"
   ]
  },
  {
   "cell_type": "code",
   "execution_count": 37,
   "id": "27a36624",
   "metadata": {},
   "outputs": [
    {
     "data": {
      "text/plain": [
       "1.9470432273905929"
      ]
     },
     "execution_count": 37,
     "metadata": {},
     "output_type": "execute_result"
    }
   ],
   "source": [
    "# Menggunakan python vanila\n",
    "mean_ = sum(x)/len(x)\n",
    "var_ = sum((item-mean_)**2 for item in x) /(n-1)\n",
    "std_ = var_**0.5\n",
    "skew_ = (sum((item-mean_)**3 for item in x)*n / ((n-1)*(n-2)*std_**3))\n",
    "skew_"
   ]
  },
  {
   "cell_type": "code",
   "execution_count": 38,
   "id": "cb3194bd",
   "metadata": {},
   "outputs": [
    {
     "data": {
      "text/plain": [
       "1.9470432273905927"
      ]
     },
     "execution_count": 38,
     "metadata": {},
     "output_type": "execute_result"
    }
   ],
   "source": [
    "# Menggunakan lib scipy\n",
    "scipy.stats.skew(y, bias=False)"
   ]
  },
  {
   "cell_type": "code",
   "execution_count": 39,
   "id": "49580833",
   "metadata": {},
   "outputs": [
    {
     "data": {
      "text/plain": [
       "nan"
      ]
     },
     "execution_count": 39,
     "metadata": {},
     "output_type": "execute_result"
    }
   ],
   "source": [
    "# Tidak bisa menghitunh apabila terdapat nan\n",
    "scipy.stats.skew(y_with_nan, bias=False)"
   ]
  },
  {
   "cell_type": "code",
   "execution_count": 40,
   "id": "e65455ee",
   "metadata": {},
   "outputs": [
    {
     "data": {
      "text/plain": [
       "1.9470432273905924"
      ]
     },
     "execution_count": 40,
     "metadata": {},
     "output_type": "execute_result"
    }
   ],
   "source": [
    "# Menggunakan Pandas\n",
    "z.skew()"
   ]
  },
  {
   "cell_type": "code",
   "execution_count": 41,
   "id": "2804f466",
   "metadata": {},
   "outputs": [
    {
     "data": {
      "text/plain": [
       "1.9470432273905924"
      ]
     },
     "execution_count": 41,
     "metadata": {},
     "output_type": "execute_result"
    }
   ],
   "source": [
    "z_with_nan.skew()"
   ]
  },
  {
   "cell_type": "markdown",
   "id": "5d1095f3",
   "metadata": {},
   "source": [
    "### Quartil\n",
    "\n",
    "Kuartil adalah nilai yang membagi data yang berurutan menjadi empat bagian yang sama banyak. Karena data terbagi menjadi empat bagian yang sama, artinya terdapat tiga nilai kuartil, yaitu kuartil bawah (Q1), kuartil tengah (Q2), dan kuartil atas (Q3).\n",
    "\n",
    "* Kuartil pertama membagi sekitar 25% item terkecil dari kumpulan data lainnya.\n",
    "* Kuartil kedua adalah sample ke 50 atau median. Kira-kira 25% terletak di antara kuartil pertama dan kedua dan 25% lainnya antara kuartil kedua dan ketiga.\n",
    "* Kuartil ketiga membagi sekitar 25% item terbesar dari sisa kumpulan data.\n",
    "\n",
    "Rumus Q1 : $$(N+1)\\frac{1}{4}$$\n",
    "\n",
    "Rumus Q2 : $$(N+1)\\frac{2}{4}$$\n",
    "\n",
    "Rumus Q3 : $$(N+1)\\frac{3}{4}$$"
   ]
  },
  {
   "cell_type": "markdown",
   "id": "c4b8c12a",
   "metadata": {},
   "source": [
    "#### Implementasi Pada Python\n",
    "\n",
    "**Membuat variable contoh**"
   ]
  },
  {
   "cell_type": "code",
   "execution_count": 50,
   "id": "826e861b",
   "metadata": {},
   "outputs": [
    {
     "name": "stdout",
     "output_type": "stream",
     "text": [
      "[8.0, 1, 2.5, 4, 28.0]\n",
      "[8.0, 1, 2.5, nan, 4, 28.0]\n"
     ]
    }
   ],
   "source": [
    "x = [8.0, 1, 2.5, 4, 28.0]\n",
    "x_with_nan = [8.0, 1, 2.5, math.nan, 4, 28.0]\n",
    "\n",
    "print(x)\n",
    "print(x_with_nan)"
   ]
  },
  {
   "cell_type": "code",
   "execution_count": 44,
   "id": "fa16611c",
   "metadata": {},
   "outputs": [
    {
     "name": "stdout",
     "output_type": "stream",
     "text": [
      "[ 8.   1.   2.5  4.  28. ]\n",
      "[ 8.   1.   2.5  nan  4.  28. ]\n",
      "0     8.0\n",
      "1     1.0\n",
      "2     2.5\n",
      "3     4.0\n",
      "4    28.0\n",
      "dtype: float64\n",
      "0     8.0\n",
      "1     1.0\n",
      "2     2.5\n",
      "3     NaN\n",
      "4     4.0\n",
      "5    28.0\n",
      "dtype: float64\n"
     ]
    }
   ],
   "source": [
    "y, y_with_nan = np.array(x), np.array(x_with_nan)\n",
    "z, z_with_nan = pd.Series(x), pd.Series(x_with_nan)\n",
    "print(y)\n",
    "print(y_with_nan)\n",
    "print(z)\n",
    "print(z_with_nan)"
   ]
  },
  {
   "cell_type": "code",
   "execution_count": 42,
   "id": "2f0e364a",
   "metadata": {},
   "outputs": [
    {
     "data": {
      "text/plain": [
       "[4.0]"
      ]
     },
     "execution_count": 42,
     "metadata": {},
     "output_type": "execute_result"
    }
   ],
   "source": [
    "# Menggunakan statistic\n",
    "statistics.quantiles (x,n=2)"
   ]
  },
  {
   "cell_type": "code",
   "execution_count": 43,
   "id": "89655057",
   "metadata": {},
   "outputs": [
    {
     "data": {
      "text/plain": [
       "[2.5, 4.0, 8.0]"
      ]
     },
     "execution_count": 43,
     "metadata": {},
     "output_type": "execute_result"
    }
   ],
   "source": [
    "statistics.quantiles(x, n=4, method='inclusive')"
   ]
  },
  {
   "cell_type": "code",
   "execution_count": 45,
   "id": "75750454",
   "metadata": {},
   "outputs": [
    {
     "data": {
      "text/plain": [
       "1.3"
      ]
     },
     "execution_count": 45,
     "metadata": {},
     "output_type": "execute_result"
    }
   ],
   "source": [
    "# Menggunakan numpy\n",
    "np.percentile(y,5)"
   ]
  },
  {
   "cell_type": "code",
   "execution_count": 46,
   "id": "284fbd1a",
   "metadata": {},
   "outputs": [
    {
     "data": {
      "text/plain": [
       "23.999999999999996"
      ]
     },
     "execution_count": 46,
     "metadata": {},
     "output_type": "execute_result"
    }
   ],
   "source": [
    "np.percentile(y,95)"
   ]
  },
  {
   "cell_type": "code",
   "execution_count": 47,
   "id": "242297f9",
   "metadata": {},
   "outputs": [
    {
     "data": {
      "text/plain": [
       "array([ 2.5,  4. , 28. ])"
      ]
     },
     "execution_count": 47,
     "metadata": {},
     "output_type": "execute_result"
    }
   ],
   "source": [
    "np.percentile(y, [25,50,100])"
   ]
  },
  {
   "cell_type": "code",
   "execution_count": 48,
   "id": "7e340e20",
   "metadata": {},
   "outputs": [
    {
     "data": {
      "text/plain": [
       "array([ 2.5,  4. , 28. ])"
      ]
     },
     "execution_count": 48,
     "metadata": {},
     "output_type": "execute_result"
    }
   ],
   "source": [
    "np.nanpercentile(y_with_nan, [25,50,100])"
   ]
  },
  {
   "cell_type": "code",
   "execution_count": 49,
   "id": "427ba78b",
   "metadata": {},
   "outputs": [
    {
     "data": {
      "text/plain": [
       "23.999999999999996"
      ]
     },
     "execution_count": 49,
     "metadata": {},
     "output_type": "execute_result"
    }
   ],
   "source": [
    "# Menggunakan pandas\n",
    "z.quantile(0.95)"
   ]
  },
  {
   "cell_type": "markdown",
   "id": "674d9f5b",
   "metadata": {},
   "source": [
    "### Ranges\n",
    "\n",
    "Range adalah selisih antara harga minimum dan maksimum dari sebuah instrumen selama periode tertentu.\n",
    "\n",
    "#### Implementasi pada Python\n",
    "\n",
    "**Membuat variable contoh**"
   ]
  },
  {
   "cell_type": "code",
   "execution_count": 51,
   "id": "dc0d2628",
   "metadata": {},
   "outputs": [
    {
     "name": "stdout",
     "output_type": "stream",
     "text": [
      "[8.0, 1, 2.5, 4, 28.0]\n",
      "[8.0, 1, 2.5, nan, 4, 28.0]\n"
     ]
    }
   ],
   "source": [
    "x = [8.0, 1, 2.5, 4, 28.0]\n",
    "x_with_nan = [8.0, 1, 2.5, math.nan, 4, 28.0]\n",
    "\n",
    "print(x)\n",
    "print(x_with_nan)"
   ]
  },
  {
   "cell_type": "code",
   "execution_count": 52,
   "id": "c52f36c4",
   "metadata": {},
   "outputs": [
    {
     "name": "stdout",
     "output_type": "stream",
     "text": [
      "[ 8.   1.   2.5  4.  28. ]\n",
      "[ 8.   1.   2.5  nan  4.  28. ]\n",
      "0     8.0\n",
      "1     1.0\n",
      "2     2.5\n",
      "3     4.0\n",
      "4    28.0\n",
      "dtype: float64\n",
      "0     8.0\n",
      "1     1.0\n",
      "2     2.5\n",
      "3     NaN\n",
      "4     4.0\n",
      "5    28.0\n",
      "dtype: float64\n"
     ]
    }
   ],
   "source": [
    "y, y_with_nan = np.array(x), np.array(x_with_nan)\n",
    "z, z_with_nan = pd.Series(x), pd.Series(x_with_nan)\n",
    "print(y)\n",
    "print(y_with_nan)\n",
    "print(z)\n",
    "print(z_with_nan)"
   ]
  },
  {
   "cell_type": "markdown",
   "id": "b13bd536",
   "metadata": {},
   "source": [
    "* max() dan min() untuk standard library python\n",
    "* amax() dan amin() untuk Numpy\n",
    "* nanmax() dan nanmin() untuk Numpy mengabaikan nan value\n",
    "* .max() dan .min() untuk Numpy\n",
    "* .max() dan .min() untuk Pandas yang mengabaikan nan value"
   ]
  },
  {
   "cell_type": "code",
   "execution_count": 53,
   "id": "bc9524fc",
   "metadata": {},
   "outputs": [
    {
     "data": {
      "text/plain": [
       "27.0"
      ]
     },
     "execution_count": 53,
     "metadata": {},
     "output_type": "execute_result"
    }
   ],
   "source": [
    "np.amax(y) - np.amin(y)"
   ]
  },
  {
   "cell_type": "code",
   "execution_count": 56,
   "id": "51e39f2c",
   "metadata": {},
   "outputs": [
    {
     "data": {
      "text/plain": [
       "27.0"
      ]
     },
     "execution_count": 56,
     "metadata": {},
     "output_type": "execute_result"
    }
   ],
   "source": [
    "np.nanmax(y_with_nan) - np.nanmin(y_with_nan)"
   ]
  },
  {
   "cell_type": "code",
   "execution_count": 55,
   "id": "b076ec78",
   "metadata": {},
   "outputs": [
    {
     "data": {
      "text/plain": [
       "27.0"
      ]
     },
     "execution_count": 55,
     "metadata": {},
     "output_type": "execute_result"
    }
   ],
   "source": [
    "y.max() - y.min()"
   ]
  },
  {
   "cell_type": "code",
   "execution_count": 57,
   "id": "69ba82bc",
   "metadata": {},
   "outputs": [
    {
     "data": {
      "text/plain": [
       "27.0"
      ]
     },
     "execution_count": 57,
     "metadata": {},
     "output_type": "execute_result"
    }
   ],
   "source": [
    "z.max() - z.min()"
   ]
  },
  {
   "cell_type": "code",
   "execution_count": null,
   "id": "8f64b37d",
   "metadata": {},
   "outputs": [],
   "source": [
    "z_with_nan.max() - z_with_nan.min()"
   ]
  },
  {
   "cell_type": "markdown",
   "id": "6b42f0f7",
   "metadata": {},
   "source": [
    "**IQR(Interquartile range)** adalah perbedaan antara kuartil pertama dan ketiga."
   ]
  },
  {
   "cell_type": "code",
   "execution_count": 58,
   "id": "c4e34c97",
   "metadata": {},
   "outputs": [
    {
     "data": {
      "text/plain": [
       "5.5"
      ]
     },
     "execution_count": 58,
     "metadata": {},
     "output_type": "execute_result"
    }
   ],
   "source": [
    "quartil = np.quantile(y,[0.25,0.75])\n",
    "quartil[1] - quartil[0]"
   ]
  },
  {
   "cell_type": "code",
   "execution_count": 59,
   "id": "6f33acd9",
   "metadata": {},
   "outputs": [
    {
     "data": {
      "text/plain": [
       "5.5"
      ]
     },
     "execution_count": 59,
     "metadata": {},
     "output_type": "execute_result"
    }
   ],
   "source": [
    "quartil = z.quantile([0.25,0.75])\n",
    "quartil[0.75] - quartil[0.25]"
   ]
  }
 ],
 "metadata": {
  "kernelspec": {
   "display_name": "Python 3 (ipykernel)",
   "language": "python",
   "name": "python3"
  },
  "language_info": {
   "codemirror_mode": {
    "name": "ipython",
    "version": 3
   },
   "file_extension": ".py",
   "mimetype": "text/x-python",
   "name": "python",
   "nbconvert_exporter": "python",
   "pygments_lexer": "ipython3",
   "version": "3.9.12"
  },
  "toc": {
   "base_numbering": 1,
   "nav_menu": {},
   "number_sections": true,
   "sideBar": true,
   "skip_h1_title": false,
   "title_cell": "Table of Contents",
   "title_sidebar": "Contents",
   "toc_cell": false,
   "toc_position": {},
   "toc_section_display": true,
   "toc_window_display": false
  }
 },
 "nbformat": 4,
 "nbformat_minor": 5
}
