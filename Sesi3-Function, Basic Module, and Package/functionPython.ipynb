{
 "cells": [
  {
   "cell_type": "markdown",
   "id": "99086e60",
   "metadata": {},
   "source": [
    "Nama    : Muhammad Reesa Rosyid\n",
    "\n",
    "Program : Python for Data Science"
   ]
  },
  {
   "cell_type": "markdown",
   "id": "d841caf7",
   "metadata": {},
   "source": [
    "# Judul"
   ]
  },
  {
   "cell_type": "markdown",
   "id": "d9340ef5",
   "metadata": {},
   "source": [
    "## Fungsi pada Python\n",
    "\n",
    "Fungsi adalah blok kode terorganisir dan dapat digunakan kembali yang digunakan untuk melakukan sebuah tindakan/action. Fungsi memberikan modularitas yang lebih baik untuk aplikasi Anda dan tingkat penggunaan kode yang tinggi.\n",
    "\n",
    "Fungsi pada python:\n",
    "* Fungsi blok dimulai dengan def kata kunci diikuti oleh nama fungsi dan tanda kurung (()).\n",
    "* Setiap parameter masukan atau argumen harus ditempatkan di dalam tanda kurung ini. Anda juga dapat menentukan parameter di dalam tanda kurung ini.\n",
    "* Pernyataan pertama dari sebuah fungsi dapat berupa pernyataan opsional - string dokumentasi fungsi atau docstring.\n",
    "* Blok kode dalam setiap fungsi dimulai dengan titik dua (:) dan indentasi.\n",
    "* Pernyataan kembali [ekspresi] keluar dari sebuah fungsi, secara opsional menyampaikan kembali ekspresi ke pemanggil. Pernyataan pengembalian tanpa argumen sama dengan return None.\n",
    "\n",
    "Contoh Fungsi:\n"
   ]
  },
  {
   "cell_type": "markdown",
   "id": "8c89edc4",
   "metadata": {},
   "source": [
    "### Fungsi tanpa parameter"
   ]
  },
  {
   "cell_type": "code",
   "execution_count": 7,
   "id": "f7f63629",
   "metadata": {},
   "outputs": [
    {
     "name": "stdout",
     "output_type": "stream",
     "text": [
      "Halo peserta kursus Python\n",
      "dari program Kampus Merdeka\n"
     ]
    }
   ],
   "source": [
    "def sapa():\n",
    "    \"Fungsi untuk print string yang ditulis dibawah ini\"\n",
    "    print(\"Halo peserta kursus Python\")\n",
    "    print(\"dari program Kampus Merdeka\")\n",
    "\n",
    "#eksekusi fungsi\n",
    "sapa()"
   ]
  },
  {
   "cell_type": "markdown",
   "id": "61370510",
   "metadata": {},
   "source": [
    "### Fungsi dengan parameter\n",
    "\n",
    "Fungsi dengan satu parameter:"
   ]
  },
  {
   "cell_type": "code",
   "execution_count": 8,
   "id": "c6a492bd",
   "metadata": {},
   "outputs": [
    {
     "name": "stdout",
     "output_type": "stream",
     "text": [
      "Reesa\n"
     ]
    }
   ],
   "source": [
    "#fungsi\n",
    "def printme( str ):\n",
    "   \"This prints a passed string into this function\"\n",
    "   print (str)\n",
    "\n",
    "#panggil fungsi\n",
    "printme(\"Reesa\")"
   ]
  },
  {
   "cell_type": "code",
   "execution_count": 4,
   "id": "eefa74b2",
   "metadata": {},
   "outputs": [
    {
     "name": "stdout",
     "output_type": "stream",
     "text": [
      "Halo Reesa\n",
      "Saya dari program Kampus Merdeka\n"
     ]
    }
   ],
   "source": [
    "def sapa_nama(nama):\n",
    "    \"Fungsi untuk print string yang ditulis dibawah ini\"\n",
    "    print(f\"Halo {nama}\")\n",
    "    print(\"Saya dari program Kampus Merdeka\")\n",
    "    \n",
    "sapa_nama(\"Reesa\")"
   ]
  },
  {
   "cell_type": "markdown",
   "id": "93e9f314",
   "metadata": {},
   "source": [
    "Fungsi dengan lebih dari satu paramter:"
   ]
  },
  {
   "cell_type": "code",
   "execution_count": 6,
   "id": "e0bdcf3a",
   "metadata": {},
   "outputs": [
    {
     "name": "stdout",
     "output_type": "stream",
     "text": [
      "Hasil dari 100 + 123 adalah 223\n"
     ]
    }
   ],
   "source": [
    "def penjumlahan(angka_1, angka_2):\n",
    "    \"Fungsi ini akan menjumlahkan 2 angka yang dimasukkan kedalam fungsi\"\n",
    "    print(f\"Hasil dari {angka_1} + {angka_2} adalah {angka_1 + angka_2}\")\n",
    "\n",
    "penjumlahan(100, 123)"
   ]
  },
  {
   "cell_type": "markdown",
   "id": "34ffcd58",
   "metadata": {},
   "source": [
    "### Fungsi dengan mengembalikan nilai"
   ]
  },
  {
   "cell_type": "code",
   "execution_count": 9,
   "id": "0387f75b",
   "metadata": {
    "scrolled": true
   },
   "outputs": [
    {
     "data": {
      "text/plain": [
       "19"
      ]
     },
     "execution_count": 9,
     "metadata": {},
     "output_type": "execute_result"
    }
   ],
   "source": [
    "# fungsi yg mengembalikan nilai ?\n",
    "def penjumlahan_2(angka_1, angka_2):\n",
    "    \"Fungsi ini akan menjumlahkan 2 angka yang dimasukkan kedalam fungsi\"\n",
    "    return angka_1 + angka_2\n",
    "penjumlahan_2(10, 9)"
   ]
  },
  {
   "cell_type": "markdown",
   "id": "62a6ef29",
   "metadata": {},
   "source": [
    "### Fungsi dengan *argh\n",
    "\n",
    "*args memungkinkan kita untuk meneruskan sejumlah variabel argumen non-kata kunci ke fungsi Python. Dalam fungsi tersebut, kita harus menggunakan tanda bintang ( * ) sebelum nama parameter untuk meneruskan sejumlah variabel argumen."
   ]
  },
  {
   "cell_type": "code",
   "execution_count": 10,
   "id": "0ac2ed5f",
   "metadata": {},
   "outputs": [
    {
     "data": {
      "text/plain": [
       "121"
      ]
     },
     "execution_count": 10,
     "metadata": {},
     "output_type": "execute_result"
    }
   ],
   "source": [
    "# *args params in function\n",
    "def penjumlahan(*angka):\n",
    "    hasil = 0\n",
    "    for item in angka:\n",
    "        hasil += item\n",
    "    return hasil\n",
    "\n",
    "penjumlahan(1,2,3,4,5,3,4,5,6,67,3,4,5,6,3)"
   ]
  },
  {
   "cell_type": "markdown",
   "id": "7f741817",
   "metadata": {},
   "source": [
    "### Fungsi dengan **kwargs\n",
    "\n",
    "Sintaks khusus **kwargs dalam definisi fungsi dalam python digunakan untuk meneruskan daftar argumen panjang variabel dengan kata kunci. Kami menggunakan nama kwargs dengan bintang ganda. Alasannya adalah bahwa bintang ganda memungkinkan kita untuk melewati argumen kata kunci (dan berapa pun jumlahnya)."
   ]
  },
  {
   "cell_type": "code",
   "execution_count": 11,
   "id": "f4179518",
   "metadata": {},
   "outputs": [
    {
     "name": "stdout",
     "output_type": "stream",
     "text": [
      "Biodata Pegawai\n",
      "Nama\t: Reesa\n",
      "Usia\t: 20\n"
     ]
    }
   ],
   "source": [
    "# **kwargs params in function\n",
    "def biodata(**data):\n",
    "    print(\"Biodata Pegawai\")\n",
    "    for k, v in data.items():\n",
    "        print(f\"{k}\\t: {v}\")\n",
    "\n",
    "biodata(Nama = \"Reesa\", Usia = 20)"
   ]
  },
  {
   "cell_type": "markdown",
   "id": "11cf01f4",
   "metadata": {},
   "source": [
    "## Variable global & local\n",
    "\n",
    "Variable global adalah variabel yang bisa dipanggil dari manapun dari satu file python. Sedangkan variable lokal adalah variabel yang hanya hidup di dalam satu blok kode tertentu.\n",
    "\n",
    "Contoh variable global:"
   ]
  },
  {
   "cell_type": "code",
   "execution_count": 12,
   "id": "c27a1fc4",
   "metadata": {},
   "outputs": [
    {
     "name": "stdout",
     "output_type": "stream",
     "text": [
      "Jangan lupa subscribe channel Hacktiv8\n",
      "Memanggil var Hacktiv8 dari fungsi 2\n"
     ]
    }
   ],
   "source": [
    "my_var = 'Hacktiv8'\n",
    "\n",
    "def fungsi_1():\n",
    "    print(f\"Jangan lupa subscribe channel {my_var}\")\n",
    "\n",
    "def fungsi_2():\n",
    "    print(f\"Memanggil var {my_var} dari fungsi 2\")\n",
    "\n",
    "fungsi_1()\n",
    "fungsi_2()"
   ]
  },
  {
   "cell_type": "markdown",
   "id": "876afe1c",
   "metadata": {},
   "source": [
    "Contoh variable local:"
   ]
  },
  {
   "cell_type": "code",
   "execution_count": 15,
   "id": "e67ab7cc",
   "metadata": {},
   "outputs": [
    {
     "name": "stdout",
     "output_type": "stream",
     "text": [
      "nama saya Reesa\n",
      "String diatas diprint didalam fungsi\n"
     ]
    }
   ],
   "source": [
    "# local variable\n",
    "def fungsi_3():\n",
    "    nama = \"Reesa\"\n",
    "    print(f\"nama saya {nama}\")\n",
    "    print(\"String diatas diprint didalam fungsi\")\n",
    "fungsi_3()"
   ]
  },
  {
   "cell_type": "markdown",
   "id": "203baa08",
   "metadata": {},
   "source": [
    "## Catching Error\n",
    "\n",
    "Dalam Python, Exception dapat ditangani menggunakan pernyataan try. Operasi kritis yang dapat memunculkan eksepsi ditempatkan di dalam klausa try. Kode yang menangani Python Exception ditulis dalam klausa except.\n",
    "\n",
    "Contoh:"
   ]
  },
  {
   "cell_type": "code",
   "execution_count": 16,
   "id": "f8cac271",
   "metadata": {},
   "outputs": [
    {
     "name": "stdout",
     "output_type": "stream",
     "text": [
      "Halo apa kabar\n",
      "name 'halo' is not defined\n",
      "2\n"
     ]
    }
   ],
   "source": [
    "try:\n",
    "    print(\"Halo apa kabar\")\n",
    "    print(halo)\n",
    "except Exception as e:\n",
    "    print(str(e))\n",
    "print(1+1)"
   ]
  },
  {
   "cell_type": "markdown",
   "id": "811fba39",
   "metadata": {},
   "source": [
    "## Fungsi Rekrusif\n",
    "\n",
    "Fungsi rekursif merupakan sebuah metode perulangan yang bersifat non-iterasi.\n",
    "\n",
    "Contoh:"
   ]
  },
  {
   "cell_type": "code",
   "execution_count": 19,
   "id": "1fcba04b",
   "metadata": {},
   "outputs": [
    {
     "data": {
      "text/plain": [
       "3628800"
      ]
     },
     "execution_count": 19,
     "metadata": {},
     "output_type": "execute_result"
    }
   ],
   "source": [
    "# fungsi rekursif\n",
    "def faktorial(n):\n",
    "    if n < 0:\n",
    "        print(\"Error, tidak bisa melakukan faktorial untuk angka negatif\")\n",
    "    elif n == 0 or n == 1:\n",
    "        return 1\n",
    "    else:\n",
    "        return n * faktorial(n-1)\n",
    "faktorial(10)"
   ]
  }
 ],
 "metadata": {
  "kernelspec": {
   "display_name": "Python 3 (ipykernel)",
   "language": "python",
   "name": "python3"
  },
  "language_info": {
   "codemirror_mode": {
    "name": "ipython",
    "version": 3
   },
   "file_extension": ".py",
   "mimetype": "text/x-python",
   "name": "python",
   "nbconvert_exporter": "python",
   "pygments_lexer": "ipython3",
   "version": "3.9.12"
  },
  "toc": {
   "base_numbering": 1,
   "nav_menu": {},
   "number_sections": true,
   "sideBar": true,
   "skip_h1_title": false,
   "title_cell": "Table of Contents",
   "title_sidebar": "Contents",
   "toc_cell": false,
   "toc_position": {},
   "toc_section_display": true,
   "toc_window_display": false
  }
 },
 "nbformat": 4,
 "nbformat_minor": 5
}
