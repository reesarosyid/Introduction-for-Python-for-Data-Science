{
 "cells": [
  {
   "cell_type": "markdown",
   "id": "af388e39",
   "metadata": {},
   "source": [
    "# Machine Learning\n",
    "\n",
    "## Definisi\n",
    "\n",
    "Machine Learning, cabang dari Artificial Intelligence , adalah disiplin ilmu yang mencakup perancangan dan pengembangan algoritma yang memungkinkan komputer untuk mengembangkan perilaku yang didasarkan pada data empiris, seperti dari sensor data basis data. Sistem pembelajar dapat memanfaatkan contoh (data) untuk menangkap ciri yang diperlukan dari probabilitas yang mendasarinya (yang tidak diketahui).\n",
    "\n",
    "## Supervised Learning\n",
    "\n",
    "Supervised learning adalah suatu pendekatan dalam pembuatan AI. Disebut “supervised” karena dalam pendekatan ini, machine learning dilatih untuk mengenali pola antara input data dan label output. Tidak hanya itu, machine learning juga dilatih untuk mengidentifikasi hubungan yang mendasari koneksi input data dengan label output.\n",
    "\n",
    "Jika diibaratkan, supervised learning adalah belajar di sekolah. Saat belajar di sekolah, Anda mempelajari materi atau mata pelajaran yang sudah ditentukan. Supervised learning pun demikian, machine learning dilatih untuk mempelajari data yang telah diberi label khusus.\n",
    "\n",
    "## Unsupervised Learning\n",
    "\n",
    "Unsupervised learning adalah suatu teknik yang digunakan machine learning dalam pembuatan artificial intelligence. Dalam pendekatan ini, Anda tidak perlu melatih algoritma komputer untuk mengenali pola penyusun AI. Model dirancang untuk bisa “belajar mandiri” dalam mengumpulkan informasi, termasuk mengenali data yang tidak berlabel. Disebut “unsupervised” karena model pada pendekatan ini tidak perlu dilatih.\n",
    "\n",
    "Algoritma unsupervised learning biasanya digunakan pada prosedur yang lebih kompleks dan rumit.\n",
    "\n",
    "## Reinforcement Learning\n",
    "\n",
    "Reinforcement learning adalah metode yang diterapkan pada sebuah machine learning supaya dapat menentukan aksi yang tepat. Pada akhirnya, sebuah program atau aplikasi pun dapat bekerja secara otomatis dan memberikan hasil yang benar. Jika belum paham, simak analogi di bawah ini.\n",
    "\n",
    "Anda memiliki sebuah anjing dan ingin melatihnya dengan cara memberi komando. Jika anjing melaksanakan perintah dengan benar, Anda berhak memberikan rewards, begitu juga sebaliknya, sehingga anjing akan tahu mana yang sesuai dan tidak sesuai dengan komando pemiliknya. Demikian juga dengan reinforcement learning.\n",
    "\n",
    "Cara kerja reinforcement learning berbeda dari supervised learning yang memiliki jawaban pasti. Pada metode ini, mesin akan didesain untuk melaksanakan perintah berdasarkan situasi yang dihadapinya. Karena tidak ada jawaban yang pasti benar, mesin akan belajar dari pengalaman-pengalaman sebelumnya untuk menghindari kesalahan dan mendapat punishment atasnya.\n",
    "\n",
    "# Deep Learning\n",
    "\n",
    "Deep learning adalah salah satu bagian dari machine learning yang berfungsi melatih komputer tentang insting dasar manusia. Caranya adalah dengan memanfaatkan algoritma komputer untuk mengelompokkan langsung data yang kompleks dalam bentuk gambar, teks, atau suara.\n",
    "\n",
    "Menariknya, algoritma tersebut mampu mencapai tingkat akurasi SOTA (state of the art), bahkan terkadang bisa melampaui kinerja tenaga manusia. Hal tersebut mungkin terjadi karena mesin AI dilatih dengan kumpulan data berlabel yang dikombinasikan dengan arsitektur neural network.\n",
    "\n",
    "Prosedur pembelajaran tersebut dinilai “deep” karena seiring tiap menitnya, neural network dengan cepat mempelajari tingkatan baru data. Semakin banyak waktu yang dihabiskan, maka semakin “dalam” pula data yang digali. Setiap banyak data yang digali dan dipelajari, maka performa AI pun akan ikut meningkat.\n",
    "\n",
    "Meski terdengar begitu rumit, sebenarnya Anda sudah memanfaatkan teknologi dengan deep learning dalam kehidupan sehari-hari. Misalnya saat menggunakan mesin pemindai biometric yang membaca wajah atau virtual assistant seperti Siri atau Alexa."
   ]
  },
  {
   "cell_type": "markdown",
   "id": "2336b89e",
   "metadata": {},
   "source": [
    "# Linear Regression\n",
    "\n",
    "## Definisi\n",
    "\n",
    "Linear Regression (Regresi Linear) adalah suatu regresi linear yang digunakan untuk mengestimasi atau memprediksi hubungan antara dua variabel dalam penelitian kuantitatif. Dimana regresi linear ini mampu membuat satu asumsi tambahan yang mengkorelasikan antara variabel independen dan dependen melalui garis yang paling sesuai dari titik data garis lurus. Artinya, bukan kurva atau semacam faktor pengelompokkan.\n",
    "\n",
    "## Penerapan dengan Python"
   ]
  },
  {
   "cell_type": "code",
   "execution_count": 1,
   "id": "f1378ed1",
   "metadata": {},
   "outputs": [],
   "source": [
    "import pandas as pd\n",
    "import numpy as np\n",
    "import seaborn as sns\n",
    "%matplotlib inline\n",
    "import matplotlib.pyplot as plt\n",
    "import matplotlib as mpl\n",
    "import math\n",
    "from sklearn.linear_model import LinearRegression\n",
    "from sklearn.model_selection import train_test_split"
   ]
  },
  {
   "cell_type": "code",
   "execution_count": 2,
   "id": "c99d93ec",
   "metadata": {},
   "outputs": [],
   "source": [
    "#Styling plot\n",
    "mpl.style.use(['ggplot'])"
   ]
  },
  {
   "cell_type": "code",
   "execution_count": 3,
   "id": "f81eed4d",
   "metadata": {},
   "outputs": [
    {
     "data": {
      "text/html": [
       "<div>\n",
       "<style scoped>\n",
       "    .dataframe tbody tr th:only-of-type {\n",
       "        vertical-align: middle;\n",
       "    }\n",
       "\n",
       "    .dataframe tbody tr th {\n",
       "        vertical-align: top;\n",
       "    }\n",
       "\n",
       "    .dataframe thead th {\n",
       "        text-align: right;\n",
       "    }\n",
       "</style>\n",
       "<table border=\"1\" class=\"dataframe\">\n",
       "  <thead>\n",
       "    <tr style=\"text-align: right;\">\n",
       "      <th></th>\n",
       "      <th>tahun</th>\n",
       "      <th>ump</th>\n",
       "      <th>kenaikan_ump</th>\n",
       "      <th>inflasi</th>\n",
       "    </tr>\n",
       "  </thead>\n",
       "  <tbody>\n",
       "    <tr>\n",
       "      <th>0</th>\n",
       "      <td>2013</td>\n",
       "      <td>2200000</td>\n",
       "      <td>43.87</td>\n",
       "      <td>5.67</td>\n",
       "    </tr>\n",
       "    <tr>\n",
       "      <th>1</th>\n",
       "      <td>2012</td>\n",
       "      <td>1529150</td>\n",
       "      <td>18.54</td>\n",
       "      <td>4.52</td>\n",
       "    </tr>\n",
       "    <tr>\n",
       "      <th>2</th>\n",
       "      <td>2011</td>\n",
       "      <td>1290000</td>\n",
       "      <td>8.58</td>\n",
       "      <td>3.97</td>\n",
       "    </tr>\n",
       "    <tr>\n",
       "      <th>3</th>\n",
       "      <td>2010</td>\n",
       "      <td>1188010</td>\n",
       "      <td>11.04</td>\n",
       "      <td>5.95</td>\n",
       "    </tr>\n",
       "    <tr>\n",
       "      <th>4</th>\n",
       "      <td>2009</td>\n",
       "      <td>1069865</td>\n",
       "      <td>10.00</td>\n",
       "      <td>2.34</td>\n",
       "    </tr>\n",
       "    <tr>\n",
       "      <th>5</th>\n",
       "      <td>2008</td>\n",
       "      <td>972605</td>\n",
       "      <td>8.00</td>\n",
       "      <td>11.11</td>\n",
       "    </tr>\n",
       "    <tr>\n",
       "      <th>6</th>\n",
       "      <td>2007</td>\n",
       "      <td>972605</td>\n",
       "      <td>9.95</td>\n",
       "      <td>6.04</td>\n",
       "    </tr>\n",
       "    <tr>\n",
       "      <th>7</th>\n",
       "      <td>2006</td>\n",
       "      <td>900560</td>\n",
       "      <td>15.07</td>\n",
       "      <td>6.03</td>\n",
       "    </tr>\n",
       "    <tr>\n",
       "      <th>8</th>\n",
       "      <td>2005</td>\n",
       "      <td>819100</td>\n",
       "      <td>6.00</td>\n",
       "      <td>16.06</td>\n",
       "    </tr>\n",
       "    <tr>\n",
       "      <th>9</th>\n",
       "      <td>2004</td>\n",
       "      <td>671550</td>\n",
       "      <td>6.33</td>\n",
       "      <td>5.87</td>\n",
       "    </tr>\n",
       "    <tr>\n",
       "      <th>10</th>\n",
       "      <td>2003</td>\n",
       "      <td>631554</td>\n",
       "      <td>6.81</td>\n",
       "      <td>5.78</td>\n",
       "    </tr>\n",
       "    <tr>\n",
       "      <th>11</th>\n",
       "      <td>2002</td>\n",
       "      <td>591266</td>\n",
       "      <td>37.71</td>\n",
       "      <td>9.08</td>\n",
       "    </tr>\n",
       "    <tr>\n",
       "      <th>12</th>\n",
       "      <td>2001</td>\n",
       "      <td>426250</td>\n",
       "      <td>23.82</td>\n",
       "      <td>11.62</td>\n",
       "    </tr>\n",
       "    <tr>\n",
       "      <th>13</th>\n",
       "      <td>2000</td>\n",
       "      <td>344257</td>\n",
       "      <td>49.03</td>\n",
       "      <td>10.29</td>\n",
       "    </tr>\n",
       "    <tr>\n",
       "      <th>14</th>\n",
       "      <td>1999</td>\n",
       "      <td>231000</td>\n",
       "      <td>16.37</td>\n",
       "      <td>1.77</td>\n",
       "    </tr>\n",
       "    <tr>\n",
       "      <th>15</th>\n",
       "      <td>1998</td>\n",
       "      <td>198500</td>\n",
       "      <td>15.07</td>\n",
       "      <td>74.42</td>\n",
       "    </tr>\n",
       "    <tr>\n",
       "      <th>16</th>\n",
       "      <td>1997</td>\n",
       "      <td>172500</td>\n",
       "      <td>NaN</td>\n",
       "      <td>11.07</td>\n",
       "    </tr>\n",
       "  </tbody>\n",
       "</table>\n",
       "</div>"
      ],
      "text/plain": [
       "    tahun      ump  kenaikan_ump  inflasi\n",
       "0    2013  2200000         43.87     5.67\n",
       "1    2012  1529150         18.54     4.52\n",
       "2    2011  1290000          8.58     3.97\n",
       "3    2010  1188010         11.04     5.95\n",
       "4    2009  1069865         10.00     2.34\n",
       "5    2008   972605          8.00    11.11\n",
       "6    2007   972605          9.95     6.04\n",
       "7    2006   900560         15.07     6.03\n",
       "8    2005   819100          6.00    16.06\n",
       "9    2004   671550          6.33     5.87\n",
       "10   2003   631554          6.81     5.78\n",
       "11   2002   591266         37.71     9.08\n",
       "12   2001   426250         23.82    11.62\n",
       "13   2000   344257         49.03    10.29\n",
       "14   1999   231000         16.37     1.77\n",
       "15   1998   198500         15.07    74.42\n",
       "16   1997   172500           NaN    11.07"
      ]
     },
     "execution_count": 3,
     "metadata": {},
     "output_type": "execute_result"
    }
   ],
   "source": [
    "df = pd.read_csv(\"ump-dan-inflasi-di-dki-jakarta-1997-2013.csv\")\n",
    "df"
   ]
  },
  {
   "cell_type": "code",
   "execution_count": 4,
   "id": "1eed3d92",
   "metadata": {},
   "outputs": [
    {
     "data": {
      "text/plain": [
       "array(['tahun', 'ump', 'kenaikan_ump', 'inflasi'], dtype=object)"
      ]
     },
     "execution_count": 4,
     "metadata": {},
     "output_type": "execute_result"
    }
   ],
   "source": [
    "df.columns.values"
   ]
  },
  {
   "cell_type": "code",
   "execution_count": 5,
   "id": "d01e238c",
   "metadata": {},
   "outputs": [
    {
     "name": "stdout",
     "output_type": "stream",
     "text": [
      "<class 'pandas.core.frame.DataFrame'>\n",
      "RangeIndex: 17 entries, 0 to 16\n",
      "Data columns (total 4 columns):\n",
      " #   Column        Non-Null Count  Dtype  \n",
      "---  ------        --------------  -----  \n",
      " 0   tahun         17 non-null     int64  \n",
      " 1   ump           17 non-null     int64  \n",
      " 2   kenaikan_ump  16 non-null     float64\n",
      " 3   inflasi       17 non-null     float64\n",
      "dtypes: float64(2), int64(2)\n",
      "memory usage: 672.0 bytes\n"
     ]
    }
   ],
   "source": [
    "df.info()"
   ]
  },
  {
   "cell_type": "code",
   "execution_count": 6,
   "id": "1e28e28b",
   "metadata": {},
   "outputs": [],
   "source": [
    "df.drop([\"kenaikan_ump\", \"inflasi\"], axis=1, inplace= True)"
   ]
  },
  {
   "cell_type": "code",
   "execution_count": 7,
   "id": "a09497db",
   "metadata": {},
   "outputs": [
    {
     "data": {
      "text/html": [
       "<div>\n",
       "<style scoped>\n",
       "    .dataframe tbody tr th:only-of-type {\n",
       "        vertical-align: middle;\n",
       "    }\n",
       "\n",
       "    .dataframe tbody tr th {\n",
       "        vertical-align: top;\n",
       "    }\n",
       "\n",
       "    .dataframe thead th {\n",
       "        text-align: right;\n",
       "    }\n",
       "</style>\n",
       "<table border=\"1\" class=\"dataframe\">\n",
       "  <thead>\n",
       "    <tr style=\"text-align: right;\">\n",
       "      <th></th>\n",
       "      <th>tahun</th>\n",
       "      <th>ump</th>\n",
       "    </tr>\n",
       "  </thead>\n",
       "  <tbody>\n",
       "    <tr>\n",
       "      <th>0</th>\n",
       "      <td>2013</td>\n",
       "      <td>2200000</td>\n",
       "    </tr>\n",
       "    <tr>\n",
       "      <th>1</th>\n",
       "      <td>2012</td>\n",
       "      <td>1529150</td>\n",
       "    </tr>\n",
       "    <tr>\n",
       "      <th>2</th>\n",
       "      <td>2011</td>\n",
       "      <td>1290000</td>\n",
       "    </tr>\n",
       "    <tr>\n",
       "      <th>3</th>\n",
       "      <td>2010</td>\n",
       "      <td>1188010</td>\n",
       "    </tr>\n",
       "    <tr>\n",
       "      <th>4</th>\n",
       "      <td>2009</td>\n",
       "      <td>1069865</td>\n",
       "    </tr>\n",
       "    <tr>\n",
       "      <th>5</th>\n",
       "      <td>2008</td>\n",
       "      <td>972605</td>\n",
       "    </tr>\n",
       "    <tr>\n",
       "      <th>6</th>\n",
       "      <td>2007</td>\n",
       "      <td>972605</td>\n",
       "    </tr>\n",
       "    <tr>\n",
       "      <th>7</th>\n",
       "      <td>2006</td>\n",
       "      <td>900560</td>\n",
       "    </tr>\n",
       "    <tr>\n",
       "      <th>8</th>\n",
       "      <td>2005</td>\n",
       "      <td>819100</td>\n",
       "    </tr>\n",
       "    <tr>\n",
       "      <th>9</th>\n",
       "      <td>2004</td>\n",
       "      <td>671550</td>\n",
       "    </tr>\n",
       "    <tr>\n",
       "      <th>10</th>\n",
       "      <td>2003</td>\n",
       "      <td>631554</td>\n",
       "    </tr>\n",
       "    <tr>\n",
       "      <th>11</th>\n",
       "      <td>2002</td>\n",
       "      <td>591266</td>\n",
       "    </tr>\n",
       "    <tr>\n",
       "      <th>12</th>\n",
       "      <td>2001</td>\n",
       "      <td>426250</td>\n",
       "    </tr>\n",
       "    <tr>\n",
       "      <th>13</th>\n",
       "      <td>2000</td>\n",
       "      <td>344257</td>\n",
       "    </tr>\n",
       "    <tr>\n",
       "      <th>14</th>\n",
       "      <td>1999</td>\n",
       "      <td>231000</td>\n",
       "    </tr>\n",
       "    <tr>\n",
       "      <th>15</th>\n",
       "      <td>1998</td>\n",
       "      <td>198500</td>\n",
       "    </tr>\n",
       "    <tr>\n",
       "      <th>16</th>\n",
       "      <td>1997</td>\n",
       "      <td>172500</td>\n",
       "    </tr>\n",
       "  </tbody>\n",
       "</table>\n",
       "</div>"
      ],
      "text/plain": [
       "    tahun      ump\n",
       "0    2013  2200000\n",
       "1    2012  1529150\n",
       "2    2011  1290000\n",
       "3    2010  1188010\n",
       "4    2009  1069865\n",
       "5    2008   972605\n",
       "6    2007   972605\n",
       "7    2006   900560\n",
       "8    2005   819100\n",
       "9    2004   671550\n",
       "10   2003   631554\n",
       "11   2002   591266\n",
       "12   2001   426250\n",
       "13   2000   344257\n",
       "14   1999   231000\n",
       "15   1998   198500\n",
       "16   1997   172500"
      ]
     },
     "execution_count": 7,
     "metadata": {},
     "output_type": "execute_result"
    }
   ],
   "source": [
    "df"
   ]
  },
  {
   "cell_type": "code",
   "execution_count": 8,
   "id": "13861878",
   "metadata": {},
   "outputs": [
    {
     "data": {
      "text/html": [
       "<div>\n",
       "<style scoped>\n",
       "    .dataframe tbody tr th:only-of-type {\n",
       "        vertical-align: middle;\n",
       "    }\n",
       "\n",
       "    .dataframe tbody tr th {\n",
       "        vertical-align: top;\n",
       "    }\n",
       "\n",
       "    .dataframe thead th {\n",
       "        text-align: right;\n",
       "    }\n",
       "</style>\n",
       "<table border=\"1\" class=\"dataframe\">\n",
       "  <thead>\n",
       "    <tr style=\"text-align: right;\">\n",
       "      <th></th>\n",
       "      <th>tahun</th>\n",
       "      <th>ump</th>\n",
       "    </tr>\n",
       "  </thead>\n",
       "  <tbody>\n",
       "    <tr>\n",
       "      <th>count</th>\n",
       "      <td>17.000000</td>\n",
       "      <td>1.700000e+01</td>\n",
       "    </tr>\n",
       "    <tr>\n",
       "      <th>mean</th>\n",
       "      <td>2005.000000</td>\n",
       "      <td>8.358101e+05</td>\n",
       "    </tr>\n",
       "    <tr>\n",
       "      <th>std</th>\n",
       "      <td>5.049752</td>\n",
       "      <td>5.314223e+05</td>\n",
       "    </tr>\n",
       "    <tr>\n",
       "      <th>min</th>\n",
       "      <td>1997.000000</td>\n",
       "      <td>1.725000e+05</td>\n",
       "    </tr>\n",
       "    <tr>\n",
       "      <th>25%</th>\n",
       "      <td>2001.000000</td>\n",
       "      <td>4.262500e+05</td>\n",
       "    </tr>\n",
       "    <tr>\n",
       "      <th>50%</th>\n",
       "      <td>2005.000000</td>\n",
       "      <td>8.191000e+05</td>\n",
       "    </tr>\n",
       "    <tr>\n",
       "      <th>75%</th>\n",
       "      <td>2009.000000</td>\n",
       "      <td>1.069865e+06</td>\n",
       "    </tr>\n",
       "    <tr>\n",
       "      <th>max</th>\n",
       "      <td>2013.000000</td>\n",
       "      <td>2.200000e+06</td>\n",
       "    </tr>\n",
       "  </tbody>\n",
       "</table>\n",
       "</div>"
      ],
      "text/plain": [
       "             tahun           ump\n",
       "count    17.000000  1.700000e+01\n",
       "mean   2005.000000  8.358101e+05\n",
       "std       5.049752  5.314223e+05\n",
       "min    1997.000000  1.725000e+05\n",
       "25%    2001.000000  4.262500e+05\n",
       "50%    2005.000000  8.191000e+05\n",
       "75%    2009.000000  1.069865e+06\n",
       "max    2013.000000  2.200000e+06"
      ]
     },
     "execution_count": 8,
     "metadata": {},
     "output_type": "execute_result"
    }
   ],
   "source": [
    "df.describe()"
   ]
  },
  {
   "cell_type": "code",
   "execution_count": 9,
   "id": "6a743cc7",
   "metadata": {},
   "outputs": [
    {
     "data": {
      "image/png": "[encoded data removed]",
      "text/plain": [
       "<Figure size 432x288 with 1 Axes>"
      ]
     },
     "metadata": {},
     "output_type": "display_data"
    }
   ],
   "source": [
    "df.plot(kind = \"scatter\", x = \"tahun\", y = \"ump\" )\n",
    "plt.title(\"UMP dari tahun 2000-2015\")\n",
    "plt.xlabel(\"Tahun\")\n",
    "plt.ylabel(\"UMP\")\n",
    "plt.show()"
   ]
  },
  {
   "cell_type": "code",
   "execution_count": 10,
   "id": "651b6181",
   "metadata": {},
   "outputs": [
    {
     "data": {
      "text/html": [
       "<div>\n",
       "<style scoped>\n",
       "    .dataframe tbody tr th:only-of-type {\n",
       "        vertical-align: middle;\n",
       "    }\n",
       "\n",
       "    .dataframe tbody tr th {\n",
       "        vertical-align: top;\n",
       "    }\n",
       "\n",
       "    .dataframe thead th {\n",
       "        text-align: right;\n",
       "    }\n",
       "</style>\n",
       "<table border=\"1\" class=\"dataframe\">\n",
       "  <thead>\n",
       "    <tr style=\"text-align: right;\">\n",
       "      <th></th>\n",
       "      <th>tahun</th>\n",
       "      <th>ump</th>\n",
       "    </tr>\n",
       "  </thead>\n",
       "  <tbody>\n",
       "    <tr>\n",
       "      <th>tahun</th>\n",
       "      <td>1.000000</td>\n",
       "      <td>0.948764</td>\n",
       "    </tr>\n",
       "    <tr>\n",
       "      <th>ump</th>\n",
       "      <td>0.948764</td>\n",
       "      <td>1.000000</td>\n",
       "    </tr>\n",
       "  </tbody>\n",
       "</table>\n",
       "</div>"
      ],
      "text/plain": [
       "          tahun       ump\n",
       "tahun  1.000000  0.948764\n",
       "ump    0.948764  1.000000"
      ]
     },
     "execution_count": 10,
     "metadata": {},
     "output_type": "execute_result"
    }
   ],
   "source": [
    "df.corr()"
   ]
  },
  {
   "cell_type": "code",
   "execution_count": 11,
   "id": "591ad923",
   "metadata": {},
   "outputs": [],
   "source": [
    "X = df['tahun'].values.reshape(-1,1)\n",
    "y = df['ump'].values.reshape(-1,1)"
   ]
  },
  {
   "cell_type": "code",
   "execution_count": 12,
   "id": "a1a35c1f",
   "metadata": {},
   "outputs": [
    {
     "data": {
      "text/plain": [
       "array([[2013],\n",
       "       [2012],\n",
       "       [2011],\n",
       "       [2010],\n",
       "       [2009],\n",
       "       [2008],\n",
       "       [2007],\n",
       "       [2006],\n",
       "       [2005],\n",
       "       [2004],\n",
       "       [2003],\n",
       "       [2002],\n",
       "       [2001],\n",
       "       [2000],\n",
       "       [1999],\n",
       "       [1998],\n",
       "       [1997]], dtype=int64)"
      ]
     },
     "execution_count": 12,
     "metadata": {},
     "output_type": "execute_result"
    }
   ],
   "source": [
    "X"
   ]
  },
  {
   "cell_type": "code",
   "execution_count": 13,
   "id": "2a72a485",
   "metadata": {},
   "outputs": [
    {
     "data": {
      "text/plain": [
       "array([[2200000],\n",
       "       [1529150],\n",
       "       [1290000],\n",
       "       [1188010],\n",
       "       [1069865],\n",
       "       [ 972605],\n",
       "       [ 972605],\n",
       "       [ 900560],\n",
       "       [ 819100],\n",
       "       [ 671550],\n",
       "       [ 631554],\n",
       "       [ 591266],\n",
       "       [ 426250],\n",
       "       [ 344257],\n",
       "       [ 231000],\n",
       "       [ 198500],\n",
       "       [ 172500]], dtype=int64)"
      ]
     },
     "execution_count": 13,
     "metadata": {},
     "output_type": "execute_result"
    }
   ],
   "source": [
    "y"
   ]
  },
  {
   "cell_type": "code",
   "execution_count": 14,
   "id": "8971479b",
   "metadata": {},
   "outputs": [],
   "source": [
    "X_train, X_test, y_train, y_test = train_test_split(X, y, test_size=0.3)"
   ]
  },
  {
   "cell_type": "code",
   "execution_count": 15,
   "id": "e9ee0c38",
   "metadata": {},
   "outputs": [],
   "source": [
    "model = LinearRegression()"
   ]
  },
  {
   "cell_type": "code",
   "execution_count": 16,
   "id": "5985b3f6",
   "metadata": {},
   "outputs": [
    {
     "data": {
      "text/plain": [
       "LinearRegression()"
      ]
     },
     "execution_count": 16,
     "metadata": {},
     "output_type": "execute_result"
    }
   ],
   "source": [
    "model.fit(X_train, y_train)"
   ]
  },
  {
   "cell_type": "code",
   "execution_count": 17,
   "id": "ffb86576",
   "metadata": {},
   "outputs": [
    {
     "name": "stdout",
     "output_type": "stream",
     "text": [
      "[[105955.69137792]]\n",
      "[-2.1160006e+08]\n"
     ]
    }
   ],
   "source": [
    "print(model.coef_)\n",
    "print(model.intercept_)"
   ]
  },
  {
   "cell_type": "code",
   "execution_count": 18,
   "id": "b1d6be78",
   "metadata": {},
   "outputs": [
    {
     "data": {
      "text/plain": [
       "0.9439951652605335"
      ]
     },
     "execution_count": 18,
     "metadata": {},
     "output_type": "execute_result"
    }
   ],
   "source": [
    "model.score(X_test, y_test)"
   ]
  },
  {
   "cell_type": "code",
   "execution_count": 19,
   "id": "eb632482",
   "metadata": {},
   "outputs": [
    {
     "data": {
      "text/plain": [
       "Text(0.5, 1.0, 'Plot Tahun vs Ump')"
      ]
     },
     "execution_count": 19,
     "metadata": {},
     "output_type": "execute_result"
    },
    {
     "data": {
      "image/png": "[encoded data removed]",
      "text/plain": [
       "<Figure size 432x288 with 1 Axes>"
      ]
     },
     "metadata": {},
     "output_type": "display_data"
    }
   ],
   "source": [
    "y_pred = model.predict(X_test)\n",
    "plt.scatter(X_test, y_test)\n",
    "plt.plot(X_test, y_pred, c='r')\n",
    "plt.xlabel('Tahun')\n",
    "plt.ylabel('Ump')\n",
    "plt.title('Plot Tahun vs Ump')"
   ]
  },
  {
   "cell_type": "code",
   "execution_count": 20,
   "id": "9186fc48",
   "metadata": {},
   "outputs": [
    {
     "data": {
      "text/plain": [
       "array([[2960215.26188558]])"
      ]
     },
     "execution_count": 20,
     "metadata": {},
     "output_type": "execute_result"
    }
   ],
   "source": [
    "model.predict([[2025]])"
   ]
  },
  {
   "cell_type": "code",
   "execution_count": 21,
   "id": "1017998f",
   "metadata": {},
   "outputs": [
    {
     "name": "stdout",
     "output_type": "stream",
     "text": [
      "(11, 1)\n",
      "(11, 1)\n",
      "(6, 1)\n",
      "(6, 1)\n",
      "(6, 1)\n"
     ]
    }
   ],
   "source": [
    "print(X_train.shape)\n",
    "print(y_train.shape)\n",
    "print(X_test.shape)\n",
    "print(y_test.shape)\n",
    "print(y_pred.shape)"
   ]
  },
  {
   "cell_type": "code",
   "execution_count": 22,
   "id": "e23801f2",
   "metadata": {},
   "outputs": [
    {
     "data": {
      "text/plain": [
       "array([[2011],\n",
       "       [2010],\n",
       "       [2007],\n",
       "       [1998],\n",
       "       [2006],\n",
       "       [2013],\n",
       "       [2002],\n",
       "       [2000],\n",
       "       [2009],\n",
       "       [2005],\n",
       "       [2003]], dtype=int64)"
      ]
     },
     "execution_count": 22,
     "metadata": {},
     "output_type": "execute_result"
    }
   ],
   "source": [
    "X_train"
   ]
  },
  {
   "cell_type": "code",
   "execution_count": null,
   "id": "e45988f4",
   "metadata": {},
   "outputs": [],
   "source": []
  }
 ],
 "metadata": {
  "kernelspec": {
   "display_name": "Python 3 (ipykernel)",
   "language": "python",
   "name": "python3"
  },
  "language_info": {
   "codemirror_mode": {
    "name": "ipython",
    "version": 3
   },
   "file_extension": ".py",
   "mimetype": "text/x-python",
   "name": "python",
   "nbconvert_exporter": "python",
   "pygments_lexer": "ipython3",
   "version": "3.9.12"
  },
  "toc": {
   "base_numbering": 1,
   "nav_menu": {},
   "number_sections": true,
   "sideBar": true,
   "skip_h1_title": false,
   "title_cell": "Table of Contents",
   "title_sidebar": "Contents",
   "toc_cell": false,
   "toc_position": {},
   "toc_section_display": true,
   "toc_window_display": false
  }
 },
 "nbformat": 4,
 "nbformat_minor": 5
}
