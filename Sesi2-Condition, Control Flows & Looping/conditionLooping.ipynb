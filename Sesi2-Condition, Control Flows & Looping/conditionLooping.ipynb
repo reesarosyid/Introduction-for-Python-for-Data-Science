{
 "cells": [
  {
   "cell_type": "markdown",
   "id": "4933a6ee",
   "metadata": {},
   "source": [
    "Nama    : Muhammad Reesa Rosyid\n",
    "\n",
    "Program : Python for Data Science"
   ]
  },
  {
   "cell_type": "markdown",
   "id": "0f47cc31",
   "metadata": {},
   "source": [
    "# Sesi 2 - Conditions, Control Flow & Looping"
   ]
  },
  {
   "cell_type": "markdown",
   "id": "697cb95c",
   "metadata": {},
   "source": [
    "## Conditional"
   ]
  },
  {
   "cell_type": "markdown",
   "id": "c72d67a0",
   "metadata": {},
   "source": [
    "Dalam program Python, if statement adalah bagaimana kalian melakukan desicion making. If statement memungkinkan eksekusi kondisional dari pernyataan atau kelompok pernyataan berdasaekan nilai ekspresi."
   ]
  },
  {
   "cell_type": "markdown",
   "id": "295cc856",
   "metadata": {},
   "source": [
    "### Pengenalan pada statement if"
   ]
  },
  {
   "cell_type": "markdown",
   "id": "f9be6226",
   "metadata": {},
   "source": [
    "Bentuk dasar pada if:"
   ]
  },
  {
   "cell_type": "markdown",
   "id": "e6035e08",
   "metadata": {},
   "source": [
    "if (expr):\n",
    "    \n",
    "        <statement>"
   ]
  },
  {
   "cell_type": "markdown",
   "id": "305118f3",
   "metadata": {},
   "source": [
    "Berikut contoh code menggunakan if statement:"
   ]
  },
  {
   "cell_type": "markdown",
   "id": "17a2c6eb",
   "metadata": {},
   "source": [
    "### Indentasi pada if"
   ]
  },
  {
   "cell_type": "markdown",
   "id": "ec6039e5",
   "metadata": {},
   "source": [
    "Indentasi digunakan untuk mendefinisikan pernyataan atau block. Dalam Program Python, pernyataan yang menjorok ke tingkat sama dianggap sebagai bagian dari block yang sama."
   ]
  },
  {
   "cell_type": "markdown",
   "id": "b1c3ab0b",
   "metadata": {},
   "source": [
    "Pernyataan dasar majemuk if akan seperti ini:"
   ]
  },
  {
   "cell_type": "markdown",
   "id": "6cb77b1b",
   "metadata": {},
   "source": [
    "if (expr):\n",
    "    \n",
    "        <statement>\n",
    "\n",
    "        <statement>\n",
    "\n",
    "        ...\n",
    "\n",
    "        <statement>\n",
    "        \n",
    "<following statement>"
   ]
  },
  {
   "cell_type": "markdown",
   "id": "6a9cd413",
   "metadata": {},
   "source": [
    "Berikut ini merupakan contoh penerapanya:"
   ]
  },
  {
   "cell_type": "code",
   "execution_count": 2,
   "id": "e08efa83",
   "metadata": {},
   "outputs": [
    {
     "name": "stdout",
     "output_type": "stream",
     "text": [
      "yes\n",
      "yes\n",
      "yes\n"
     ]
    }
   ],
   "source": [
    "x = 0\n",
    "y = 5\n",
    "\n",
    "if x < y:\n",
    "    print('yes')  #Truthy\n",
    "    \n",
    "if y < x:\n",
    "    print('yes')  #Falsy\n",
    "    \n",
    "if x:\n",
    "    print('yes')  #Falsy\n",
    "    #Dianggap false karena x = 0. 0 berarti false\n",
    "    \n",
    "if y:\n",
    "    print('yes')  #Truthy\n",
    "    #Dianggap truth karena selain bilangan 0 maka dianggap truth\n",
    "\n",
    "if 'aul' in 'rgrault':\n",
    "    print('yes')  #Truthy\n",
    "\n",
    "if'quux' in ['foo', 'bar', 'baz']:\n",
    "    print('tyes')  #Falsy"
   ]
  },
  {
   "cell_type": "code",
   "execution_count": 3,
   "id": "f54ed6e7",
   "metadata": {},
   "outputs": [
    {
     "name": "stdout",
     "output_type": "stream",
     "text": [
      "Outer condition is true\n",
      "Between inner condition\n",
      "inner condition 2\n",
      "End of outer condition\n",
      "After outer condition\n"
     ]
    }
   ],
   "source": [
    "#Apakah line tersebut dieksekusi?\n",
    "\n",
    "if 'foo' in ['foo', 'bar', 'baz']: #yes\n",
    "    print('Outer condition is true') #yes\n",
    "    \n",
    "    if 10>20: #yes\n",
    "        print('inner condition 1') #no\n",
    "        \n",
    "    print('Between inner condition') #yes\n",
    "    \n",
    "    if 10<20: #yes\n",
    "        print('inner condition 2') #yes\n",
    "        \n",
    "    print('End of outer condition') #yes\n",
    "print('After outer condition') #yes"
   ]
  },
  {
   "cell_type": "markdown",
   "id": "fb131698",
   "metadata": {},
   "source": [
    "### Ketentuan penggunaan else dan elif"
   ]
  },
  {
   "cell_type": "markdown",
   "id": "b98fa2a1",
   "metadata": {},
   "source": [
    "Else dan elif(else if) digunakan untuk mengevaluasi kondisi dan mengambil satu jalur jika benar, tetapi menentukan jalur alternatif lain bila tidak benar. \n",
    "\n",
    "Jika <expr> benar, rangkaian pertama dijalankan, dan rangkaian kedua dilewati. Jika <expr> salah maka rangkaian kedua akan dijalankan. Eksekusi ditentukan oleh indentasi seperti contoh di atas.\n",
    "\n",
    "Berikut ini bentuk dasar dari if else:"
   ]
  },
  {
   "cell_type": "markdown",
   "id": "bb480488",
   "metadata": {},
   "source": [
    "if (expr):\n",
    "\n",
    "        <statement(x)>\n",
    "    \n",
    "else:\n",
    "\n",
    "        <statement(y)>"
   ]
  },
  {
   "cell_type": "markdown",
   "id": "e36e53e7",
   "metadata": {},
   "source": [
    "Berikut ini contoh penggunaan pada if else:"
   ]
  },
  {
   "cell_type": "code",
   "execution_count": 8,
   "id": "2f59fd19",
   "metadata": {},
   "outputs": [
    {
     "name": "stdout",
     "output_type": "stream",
     "text": [
      "uang tidak cukup\n"
     ]
    }
   ],
   "source": [
    "hargaBuku = 20000\n",
    "hargaMajalah = 5000\n",
    "uang = 2000\n",
    "\n",
    "if uang > hargaBuku:\n",
    "    print(\"beli buku\")\n",
    "else:\n",
    "    print(\"uang tidak cukup\")"
   ]
  },
  {
   "cell_type": "markdown",
   "id": "6835832d",
   "metadata": {},
   "source": [
    "Terdapat sintaks untuk percabangan berdasarkan beberapa alternatif. Dalam kasus ini perlu menggunakan sintaks elif. Rangkaian <expr> akan bergantian dievaluasi dan apabila tidak ada yang benar maka else yang akan dieksekusi.\n",
    "    \n",
    "Contoh dasar menggunakan if, elif, dan else:"
   ]
  },
  {
   "cell_type": "markdown",
   "id": "d636949a",
   "metadata": {},
   "source": [
    "if (expr):\n",
    "\n",
    "        <statement(w)>\n",
    "\n",
    "elif (expr):\n",
    "\n",
    "        <statement(x)>\n",
    "\n",
    "elif (expr):\n",
    "\n",
    "        <statement(y)>\n",
    "\n",
    "else:\n",
    "\n",
    "        <statement(z)>"
   ]
  },
  {
   "cell_type": "markdown",
   "id": "9d92ed7e",
   "metadata": {},
   "source": [
    "Pada penerapan contoh kasus:"
   ]
  },
  {
   "cell_type": "code",
   "execution_count": 9,
   "id": "38c70186",
   "metadata": {},
   "outputs": [
    {
     "name": "stdout",
     "output_type": "stream",
     "text": [
      "beli majalah\n"
     ]
    }
   ],
   "source": [
    "hargaBuku = 20000\n",
    "hargaMajalah = 5000\n",
    "uang = 15000\n",
    "\n",
    "if uang > hargaBuku:\n",
    "    print(\"beli buku\")\n",
    "elif uang > hargaMajalah:\n",
    "    print(\"beli majalah\")\n",
    "else:\n",
    "    print(\"uang tidak cukup\")"
   ]
  },
  {
   "cell_type": "markdown",
   "id": "f5773167",
   "metadata": {},
   "source": [
    "## Looping"
   ]
  },
  {
   "cell_type": "markdown",
   "id": "b9ebb652",
   "metadata": {},
   "source": [
    "Iteration artinya mengeksekusi block kode yang sama berulang kali, berpotensi bisa berkali-kali. Struktur pemrograman yang mengimplementasikan iterasi disebut loop.\n",
    "\n",
    "Dalam pemrograman, ada dua jenis iterasi, indefinite dan definite:\n",
    "* Dengan indefinite iteration, beberapa kali loop dijalankan tidak ditentukan secara eksplisit sebelumnya. Sebaliknya, blok yang ditunjuk dijalankan berulang kali selam beberapa kondisi terpenuhi.\n",
    "* Dengan definite iteration, berapa kali blok ditunjuk akan dieksekusi ditentukan secara eksplisit pada saat perulangan dimulai."
   ]
  },
  {
   "cell_type": "markdown",
   "id": "1e6330f2",
   "metadata": {},
   "source": [
    "### While loop\n",
    "\n",
    "Format loop ditampilkan di bawah ini:\n",
    "\n",
    "while (expr):\n",
    "\n",
    "        <statement(s)>\n",
    "    \n",
    "Contoh penerapan:"
   ]
  },
  {
   "cell_type": "code",
   "execution_count": 1,
   "id": "610ac9ea",
   "metadata": {},
   "outputs": [
    {
     "name": "stdout",
     "output_type": "stream",
     "text": [
      "i ke 1 halo dunia\n",
      "i ke 2 halo dunia\n",
      "i ke 3 halo dunia\n",
      "i ke 4 halo dunia\n",
      "i ke 5 halo dunia\n",
      "i ke 6 halo dunia\n",
      "i ke 7 halo dunia\n",
      "i ke 8 halo dunia\n",
      "i ke 9 halo dunia\n",
      "i ke 10 halo dunia\n"
     ]
    }
   ],
   "source": [
    "i = 0\n",
    "while i < 10:\n",
    "    i += 1\n",
    "    print(f\"i ke {i}\", \"halo dunia\")"
   ]
  },
  {
   "cell_type": "markdown",
   "id": "6a40400f",
   "metadata": {},
   "source": [
    "Inilah yang terjadi dalam contoh diatas:\n",
    "* n adalah 10. Ekspresi dalam while pada baris 2 adalah n>0. Yang mana benar sehingga dieksekusi. Pasa baris 3, n+1 menjadi 1 lalu di print ke layar\n",
    "* Ketika badan loop selesai, eksekusi program kembali ke atas pada baris 2, dan ekspresi dievaluasi lagi, ekspresinya masih benarm jadi badan dieksekusi lagi dan di cetak 2.\n",
    "* Looping berlanjut sampai n menjadi 10, ketika ekspresi diuji menghasilkan salah maka loop berhenti. Eksekusi dilanjutkan setelah badan loop."
   ]
  },
  {
   "cell_type": "markdown",
   "id": "10bb8725",
   "metadata": {},
   "source": [
    "### Break & Continue"
   ]
  },
  {
   "cell_type": "markdown",
   "id": "515eb616",
   "metadata": {},
   "source": [
    "#### Break\n",
    "\n",
    "Python break statement segera menghentikan perulangan seluruhnya. eksekusi program dilanjutkan ke pertanyaan pertama setelah badan loop.\n",
    "\n",
    "Contoh:"
   ]
  },
  {
   "cell_type": "code",
   "execution_count": 2,
   "id": "091769e0",
   "metadata": {},
   "outputs": [
    {
     "name": "stdout",
     "output_type": "stream",
     "text": [
      "masih looping\n",
      "masih looping\n",
      "masih looping\n",
      "Looping Selesai\n"
     ]
    }
   ],
   "source": [
    "i = 0\n",
    "while i < 5:\n",
    "    print(\"masih looping\")\n",
    "    i += 1\n",
    "    if i == 3:\n",
    "        break\n",
    "print(\"Looping Selesai\")"
   ]
  },
  {
   "cell_type": "markdown",
   "id": "db37b867",
   "metadata": {},
   "source": [
    "#### Continue\n",
    "\n",
    "Python continue statement segera menghentikan iterasi loop saat dijalankan. Eksekusi melompat ke atas loop, dan controlling expression dievaluasi ulang untuk menentukan apakah loop akan dieksukusi lagi atau tidak.\n",
    "\n",
    "Contoh:"
   ]
  },
  {
   "cell_type": "code",
   "execution_count": 3,
   "id": "2b60822d",
   "metadata": {},
   "outputs": [
    {
     "name": "stdout",
     "output_type": "stream",
     "text": [
      "4\n",
      "3\n",
      "1\n",
      "0\n",
      "Loop selesai\n"
     ]
    }
   ],
   "source": [
    "n = 5\n",
    "while n>0:\n",
    "    n -= 1\n",
    "    if n == 2:\n",
    "        continue\n",
    "    print(n)\n",
    "print(\"Loop selesai\")"
   ]
  },
  {
   "cell_type": "markdown",
   "id": "1b89f18c",
   "metadata": {},
   "source": [
    "### For Loop\n",
    "\n",
    "For loop berguna untuk mengulang blok kode beberapa kali secara berurutan semisal tipe data list, tupel, dict, set, dan string. Menggunakan for loop untuk mengeksekusi satu set kode pernyataan. Menggunakan for loop untuk mengulang string.\n",
    "\n",
    "Format for loop:\n",
    "\n",
    "for (var) in (iterable):\n",
    "\n",
    "            <statement(s)>\n",
    "\n",
    "Contoh penrapan for loop:"
   ]
  },
  {
   "cell_type": "code",
   "execution_count": 4,
   "id": "2634eb52",
   "metadata": {},
   "outputs": [
    {
     "name": "stdout",
     "output_type": "stream",
     "text": [
      "Saya ingin makan buah Pepaya\n",
      "Saya ingin makan buah Mangga\n",
      "Saya ingin makan buah Pisang\n",
      "Saya ingin makan buah Jambu\n"
     ]
    }
   ],
   "source": [
    "buahbuahan = [\"Pepaya\", \"Mangga\", \"Pisang\", \"Jambu\"]\n",
    "for buah in buahbuahan:\n",
    "    print(f\"Saya ingin makan buah {buah}\")"
   ]
  },
  {
   "cell_type": "markdown",
   "id": "a63fa3f5",
   "metadata": {},
   "source": [
    "### Nested Looping\n",
    "\n",
    "Menurut artian dalam bahasa Inggris, Nested loop dapat diartikan sebagai looping atau perulangan yang bersarang. Maksudnya adalah dalam looping tersebut masih terdapat looping lagi bahkan dalam looping tersebut, masih memungkinkan untuk membuat perulangan lagi sehingga looping tersebut bersarang kedalam.\n",
    "\n",
    "Contoh penerapan pada while:"
   ]
  },
  {
   "cell_type": "code",
   "execution_count": 5,
   "id": "f76f7c00",
   "metadata": {},
   "outputs": [
    {
     "name": "stdout",
     "output_type": "stream",
     "text": [
      "1 x 1 = 1\n",
      "1 x 2 = 2\n",
      "1 x 3 = 3\n",
      "1 x 4 = 4\n",
      "1 x 5 = 5\n",
      "1 x 6 = 6\n",
      "1 x 7 = 7\n",
      "1 x 8 = 8\n",
      "1 x 9 = 9\n",
      "1 x 10 = 10\n",
      "==================================================\n",
      "2 x 1 = 2\n",
      "2 x 2 = 4\n",
      "2 x 3 = 6\n",
      "2 x 4 = 8\n",
      "2 x 5 = 10\n",
      "2 x 6 = 12\n",
      "2 x 7 = 14\n",
      "2 x 8 = 16\n",
      "2 x 9 = 18\n",
      "2 x 10 = 20\n",
      "==================================================\n",
      "3 x 1 = 3\n",
      "3 x 2 = 6\n",
      "3 x 3 = 9\n",
      "3 x 4 = 12\n",
      "3 x 5 = 15\n",
      "3 x 6 = 18\n",
      "3 x 7 = 21\n",
      "3 x 8 = 24\n",
      "3 x 9 = 27\n",
      "3 x 10 = 30\n",
      "==================================================\n",
      "4 x 1 = 4\n",
      "4 x 2 = 8\n",
      "4 x 3 = 12\n",
      "4 x 4 = 16\n",
      "4 x 5 = 20\n",
      "4 x 6 = 24\n",
      "4 x 7 = 28\n",
      "4 x 8 = 32\n",
      "4 x 9 = 36\n",
      "4 x 10 = 40\n",
      "==================================================\n",
      "5 x 1 = 5\n",
      "5 x 2 = 10\n",
      "5 x 3 = 15\n",
      "5 x 4 = 20\n",
      "5 x 5 = 25\n",
      "5 x 6 = 30\n",
      "5 x 7 = 35\n",
      "5 x 8 = 40\n",
      "5 x 9 = 45\n",
      "5 x 10 = 50\n",
      "==================================================\n",
      "6 x 1 = 6\n",
      "6 x 2 = 12\n",
      "6 x 3 = 18\n",
      "6 x 4 = 24\n",
      "6 x 5 = 30\n",
      "6 x 6 = 36\n",
      "6 x 7 = 42\n",
      "6 x 8 = 48\n",
      "6 x 9 = 54\n",
      "6 x 10 = 60\n",
      "==================================================\n",
      "7 x 1 = 7\n",
      "7 x 2 = 14\n",
      "7 x 3 = 21\n",
      "7 x 4 = 28\n",
      "7 x 5 = 35\n",
      "7 x 6 = 42\n",
      "7 x 7 = 49\n",
      "7 x 8 = 56\n",
      "7 x 9 = 63\n",
      "7 x 10 = 70\n",
      "==================================================\n",
      "8 x 1 = 8\n",
      "8 x 2 = 16\n",
      "8 x 3 = 24\n",
      "8 x 4 = 32\n",
      "8 x 5 = 40\n",
      "8 x 6 = 48\n",
      "8 x 7 = 56\n",
      "8 x 8 = 64\n",
      "8 x 9 = 72\n",
      "8 x 10 = 80\n",
      "==================================================\n",
      "9 x 1 = 9\n",
      "9 x 2 = 18\n",
      "9 x 3 = 27\n",
      "9 x 4 = 36\n",
      "9 x 5 = 45\n",
      "9 x 6 = 54\n",
      "9 x 7 = 63\n",
      "9 x 8 = 72\n",
      "9 x 9 = 81\n",
      "9 x 10 = 90\n",
      "==================================================\n",
      "10 x 1 = 10\n",
      "10 x 2 = 20\n",
      "10 x 3 = 30\n",
      "10 x 4 = 40\n",
      "10 x 5 = 50\n",
      "10 x 6 = 60\n",
      "10 x 7 = 70\n",
      "10 x 8 = 80\n",
      "10 x 9 = 90\n",
      "10 x 10 = 100\n",
      "==================================================\n"
     ]
    }
   ],
   "source": [
    "i = 1\n",
    "j = 1\n",
    "while j <= 10:\n",
    "    while i <= 10:\n",
    "        print(f\"{j} x {i} = {j*i}\")\n",
    "        i += 1\n",
    "    i = 1\n",
    "    j += 1\n",
    "    print(\"=\"*50)"
   ]
  },
  {
   "cell_type": "markdown",
   "id": "e56fb79d",
   "metadata": {},
   "source": [
    "Contoh penerapan pada for:"
   ]
  },
  {
   "cell_type": "code",
   "execution_count": 1,
   "id": "0b0f9964",
   "metadata": {},
   "outputs": [
    {
     "name": "stdout",
     "output_type": "stream",
     "text": [
      "1 x 1 = 1\n",
      "1 x 2 = 2\n",
      "1 x 3 = 3\n",
      "1 x 4 = 4\n",
      "1 x 5 = 5\n",
      "1 x 6 = 6\n",
      "1 x 7 = 7\n",
      "1 x 8 = 8\n",
      "1 x 9 = 9\n",
      "1 x 10 = 10\n",
      "==================================================\n",
      "2 x 1 = 2\n",
      "2 x 2 = 4\n",
      "2 x 3 = 6\n",
      "2 x 4 = 8\n",
      "2 x 5 = 10\n",
      "2 x 6 = 12\n",
      "2 x 7 = 14\n",
      "2 x 8 = 16\n",
      "2 x 9 = 18\n",
      "2 x 10 = 20\n",
      "==================================================\n",
      "3 x 1 = 3\n",
      "3 x 2 = 6\n",
      "3 x 3 = 9\n",
      "3 x 4 = 12\n",
      "3 x 5 = 15\n",
      "3 x 6 = 18\n",
      "3 x 7 = 21\n",
      "3 x 8 = 24\n",
      "3 x 9 = 27\n",
      "3 x 10 = 30\n",
      "==================================================\n",
      "4 x 1 = 4\n",
      "4 x 2 = 8\n",
      "4 x 3 = 12\n",
      "4 x 4 = 16\n",
      "4 x 5 = 20\n",
      "4 x 6 = 24\n",
      "4 x 7 = 28\n",
      "4 x 8 = 32\n",
      "4 x 9 = 36\n",
      "4 x 10 = 40\n",
      "==================================================\n",
      "5 x 1 = 5\n",
      "5 x 2 = 10\n",
      "5 x 3 = 15\n",
      "5 x 4 = 20\n",
      "5 x 5 = 25\n",
      "5 x 6 = 30\n",
      "5 x 7 = 35\n",
      "5 x 8 = 40\n",
      "5 x 9 = 45\n",
      "5 x 10 = 50\n",
      "==================================================\n",
      "6 x 1 = 6\n",
      "6 x 2 = 12\n",
      "6 x 3 = 18\n",
      "6 x 4 = 24\n",
      "6 x 5 = 30\n",
      "6 x 6 = 36\n",
      "6 x 7 = 42\n",
      "6 x 8 = 48\n",
      "6 x 9 = 54\n",
      "6 x 10 = 60\n",
      "==================================================\n",
      "7 x 1 = 7\n",
      "7 x 2 = 14\n",
      "7 x 3 = 21\n",
      "7 x 4 = 28\n",
      "7 x 5 = 35\n",
      "7 x 6 = 42\n",
      "7 x 7 = 49\n",
      "7 x 8 = 56\n",
      "7 x 9 = 63\n",
      "7 x 10 = 70\n",
      "==================================================\n",
      "8 x 1 = 8\n",
      "8 x 2 = 16\n",
      "8 x 3 = 24\n",
      "8 x 4 = 32\n",
      "8 x 5 = 40\n",
      "8 x 6 = 48\n",
      "8 x 7 = 56\n",
      "8 x 8 = 64\n",
      "8 x 9 = 72\n",
      "8 x 10 = 80\n",
      "==================================================\n",
      "9 x 1 = 9\n",
      "9 x 2 = 18\n",
      "9 x 3 = 27\n",
      "9 x 4 = 36\n",
      "9 x 5 = 45\n",
      "9 x 6 = 54\n",
      "9 x 7 = 63\n",
      "9 x 8 = 72\n",
      "9 x 9 = 81\n",
      "9 x 10 = 90\n",
      "==================================================\n",
      "10 x 1 = 10\n",
      "10 x 2 = 20\n",
      "10 x 3 = 30\n",
      "10 x 4 = 40\n",
      "10 x 5 = 50\n",
      "10 x 6 = 60\n",
      "10 x 7 = 70\n",
      "10 x 8 = 80\n",
      "10 x 9 = 90\n",
      "10 x 10 = 100\n",
      "==================================================\n"
     ]
    }
   ],
   "source": [
    "for j in range(1, 11):\n",
    "    for i in range(1, 11):\n",
    "        print(f\"{j} x {i} = {j*i}\")\n",
    "    print(\"=\"*50)"
   ]
  },
  {
   "cell_type": "code",
   "execution_count": null,
   "id": "dc9c49d7",
   "metadata": {},
   "outputs": [],
   "source": []
  }
 ],
 "metadata": {
  "kernelspec": {
   "display_name": "Python 3.10.5 64-bit",
   "language": "python",
   "name": "python3"
  },
  "language_info": {
   "codemirror_mode": {
    "name": "ipython",
    "version": 3
   },
   "file_extension": ".py",
   "mimetype": "text/x-python",
   "name": "python",
   "nbconvert_exporter": "python",
   "pygments_lexer": "ipython3",
   "version": "3.10.5"
  },
  "toc": {
   "base_numbering": 1,
   "nav_menu": {},
   "number_sections": true,
   "sideBar": true,
   "skip_h1_title": false,
   "title_cell": "Table of Contents",
   "title_sidebar": "Contents",
   "toc_cell": false,
   "toc_position": {},
   "toc_section_display": true,
   "toc_window_display": false
  },
  "vscode": {
   "interpreter": {
    "hash": "82059fd9d1f373c52c3ad2f3ae9d59942763e43a94ae549f0e42439617829355"
   }
  }
 },
 "nbformat": 4,
 "nbformat_minor": 5
}
