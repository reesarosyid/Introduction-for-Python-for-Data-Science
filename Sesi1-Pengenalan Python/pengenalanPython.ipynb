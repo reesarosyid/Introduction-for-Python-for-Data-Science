{
 "cells": [
  {
   "cell_type": "code",
   "execution_count": 1,
   "id": "62e6f230",
   "metadata": {},
   "outputs": [
    {
     "name": "stdout",
     "output_type": "stream",
     "text": [
      "Hallo World!\n"
     ]
    }
   ],
   "source": [
    "print(\"Hallo World!\")"
   ]
  },
  {
   "cell_type": "code",
   "execution_count": 3,
   "id": "ef0ee03b",
   "metadata": {},
   "outputs": [],
   "source": [
    "### TIPE DATA TUNGGAL"
   ]
  },
  {
   "cell_type": "code",
   "execution_count": 4,
   "id": "455cc679",
   "metadata": {},
   "outputs": [
    {
     "name": "stdout",
     "output_type": "stream",
     "text": [
      "10\n",
      "<class 'int'>\n"
     ]
    }
   ],
   "source": [
    "#Integer\n",
    "print(10)\n",
    "print(type(10))"
   ]
  },
  {
   "cell_type": "code",
   "execution_count": 1,
   "id": "a312ea3f",
   "metadata": {},
   "outputs": [
    {
     "name": "stdout",
     "output_type": "stream",
     "text": [
      "<class 'bool'>\n",
      "<class 'bool'>\n"
     ]
    }
   ],
   "source": [
    "#Boolean\n",
    "print(type(True))\n",
    "print(type(False))"
   ]
  },
  {
   "cell_type": "code",
   "execution_count": 2,
   "id": "d777026c",
   "metadata": {},
   "outputs": [
    {
     "name": "stdout",
     "output_type": "stream",
     "text": [
      "4.2\n",
      "<class 'float'>\n",
      "4.0\n",
      "0.2\n",
      "4000000.0\n",
      "0.00042\n"
     ]
    }
   ],
   "source": [
    "#Float\n",
    "print(4.2)\n",
    "print(type(4.2))\n",
    "\n",
    "print(4.)\n",
    "\n",
    "print(.2)\n",
    "\n",
    "print(.4e7)\n",
    "\n",
    "print(4.2e-4)"
   ]
  },
  {
   "cell_type": "code",
   "execution_count": 6,
   "id": "04f38e72",
   "metadata": {},
   "outputs": [
    {
     "name": "stdout",
     "output_type": "stream",
     "text": [
      "Reesa Rosyid\n",
      "<class 'str'>\n"
     ]
    }
   ],
   "source": [
    "#Strings\n",
    "print(\"Reesa Rosyid\")\n",
    "print(type(\"Reesa Rosyid\"))"
   ]
  },
  {
   "cell_type": "code",
   "execution_count": 7,
   "id": "52893f0f",
   "metadata": {},
   "outputs": [
    {
     "name": "stdout",
     "output_type": "stream",
     "text": [
      "300\n"
     ]
    }
   ],
   "source": [
    "#Pendeklarasian Variabel\n",
    "n = 300\n",
    "print(n)"
   ]
  },
  {
   "cell_type": "code",
   "execution_count": 8,
   "id": "a7e1abe1",
   "metadata": {},
   "outputs": [
    {
     "data": {
      "text/plain": [
       "300"
      ]
     },
     "execution_count": 8,
     "metadata": {},
     "output_type": "execute_result"
    }
   ],
   "source": [
    "n"
   ]
  },
  {
   "cell_type": "code",
   "execution_count": 9,
   "id": "67aa378e",
   "metadata": {},
   "outputs": [
    {
     "name": "stdout",
     "output_type": "stream",
     "text": [
      "1000\n"
     ]
    }
   ],
   "source": [
    "# Jika kamu merubah nilai dari n dan menggunakan lagi, nilai baru akan disubstitusikan\n",
    "\n",
    "n = 1000\n",
    "print(n)"
   ]
  },
  {
   "cell_type": "code",
   "execution_count": 10,
   "id": "f2241d89",
   "metadata": {},
   "outputs": [
    {
     "data": {
      "text/plain": [
       "1000"
      ]
     },
     "execution_count": 10,
     "metadata": {},
     "output_type": "execute_result"
    }
   ],
   "source": [
    "n"
   ]
  },
  {
   "cell_type": "code",
   "execution_count": 12,
   "id": "1014049d",
   "metadata": {},
   "outputs": [
    {
     "name": "stdout",
     "output_type": "stream",
     "text": [
      "300 300 300\n"
     ]
    }
   ],
   "source": [
    "a = b = c = 300\n",
    "print(a,b,c)"
   ]
  },
  {
   "cell_type": "code",
   "execution_count": 13,
   "id": "403b5554",
   "metadata": {},
   "outputs": [
    {
     "name": "stdout",
     "output_type": "stream",
     "text": [
      "23.5\n",
      "Sekarang aku adalah string\n"
     ]
    }
   ],
   "source": [
    "#Tipe variabel pada python\n",
    "\n",
    "var = 23.5\n",
    "print(var)\n",
    "\n",
    "var = \"Sekarang aku adalah string\"\n",
    "print(var)"
   ]
  },
  {
   "cell_type": "code",
   "execution_count": 14,
   "id": "3df6009b",
   "metadata": {},
   "outputs": [
    {
     "name": "stdout",
     "output_type": "stream",
     "text": [
      "Reesa Rosyid 20 True\n"
     ]
    }
   ],
   "source": [
    "#Nama variabel\n",
    "name = \"Reesa Rosyid\"\n",
    "age = 20\n",
    "has_pc = True\n",
    "print(name, age, has_pc)"
   ]
  },
  {
   "cell_type": "code",
   "execution_count": 15,
   "id": "f90818f7",
   "metadata": {},
   "outputs": [
    {
     "ename": "SyntaxError",
     "evalue": "invalid decimal literal (3331138734.py, line 2)",
     "output_type": "error",
     "traceback": [
      "\u001b[1;36m  Input \u001b[1;32mIn [15]\u001b[1;36m\u001b[0m\n\u001b[1;33m    666_a = True\u001b[0m\n\u001b[1;37m       ^\u001b[0m\n\u001b[1;31mSyntaxError\u001b[0m\u001b[1;31m:\u001b[0m invalid decimal literal\n"
     ]
    }
   ],
   "source": [
    "#Nama variabel tidak boleh dimulai dengan angka\n",
    "666_a = True"
   ]
  },
  {
   "cell_type": "code",
   "execution_count": 16,
   "id": "c576da58",
   "metadata": {},
   "outputs": [
    {
     "name": "stdout",
     "output_type": "stream",
     "text": [
      "1 2 3 4 5 6 7 8\n"
     ]
    }
   ],
   "source": [
    "#Penamaan yang benar\n",
    "age = 1\n",
    "Age = 2\n",
    "aGe = 3\n",
    "AGE = 4\n",
    "a_g_e = 5\n",
    "_age = 6\n",
    "age_ = 7\n",
    "_AGE_ = 8\n",
    "print(age, Age, aGe, AGE, a_g_e, _age, age_, _AGE_)"
   ]
  },
  {
   "cell_type": "code",
   "execution_count": 17,
   "id": "3adb9722",
   "metadata": {},
   "outputs": [
    {
     "data": {
      "text/plain": [
       "30"
      ]
     },
     "execution_count": 17,
     "metadata": {},
     "output_type": "execute_result"
    }
   ],
   "source": [
    "#Operator dan Ekspresi di Python\n",
    "a = 10\n",
    "b = 20\n",
    "a+b"
   ]
  },
  {
   "cell_type": "code",
   "execution_count": 7,
   "id": "5d072a5c",
   "metadata": {},
   "outputs": [
    {
     "name": "stdout",
     "output_type": "stream",
     "text": [
      "7\n",
      "1\n",
      "12\n",
      "1.3333333333333333\n",
      "1\n",
      "1\n",
      "64\n"
     ]
    }
   ],
   "source": [
    "#Aritmatika operasi\n",
    "\n",
    "a = 4\n",
    "b = 3\n",
    "print(a+b)\n",
    "print(a-b)\n",
    "print(a*b)\n",
    "print(a/b)#selalu float\n",
    "print(a//b)\n",
    "print(a%b)\n",
    "print(a**b)"
   ]
  },
  {
   "cell_type": "code",
   "execution_count": 19,
   "id": "7dd17d36",
   "metadata": {},
   "outputs": [
    {
     "name": "stdout",
     "output_type": "stream",
     "text": [
      "False\n",
      "True\n",
      "True\n",
      "False\n",
      "False\n",
      "True\n",
      "False\n"
     ]
    }
   ],
   "source": [
    "#Operasi perbandingan\n",
    "\n",
    "a = 10\n",
    "b = 20\n",
    "\n",
    "print(a == b)\n",
    "print(a != b)\n",
    "print(a <= b)\n",
    "print(a >= b)\n",
    "\n",
    "a = 10\n",
    "b = 20\n",
    "print(a == b)\n",
    "print(a <= b)\n",
    "print(a >= b)"
   ]
  },
  {
   "cell_type": "code",
   "execution_count": 20,
   "id": "80845251",
   "metadata": {},
   "outputs": [
    {
     "name": "stdout",
     "output_type": "stream",
     "text": [
      "foobar\n",
      "foobarbaz\n",
      "ReesaRosyid\n"
     ]
    }
   ],
   "source": [
    "#Manipulasi String\n",
    "\n",
    "#+operator\n",
    "s = 'foo'\n",
    "t = 'bar'\n",
    "u = 'baz'\n",
    "print(s+t)\n",
    "print(s+t+u)\n",
    "print('Reesa'+'Rosyid')\n"
   ]
  },
  {
   "cell_type": "code",
   "execution_count": 21,
   "id": "2d8e5d77",
   "metadata": {},
   "outputs": [
    {
     "data": {
      "text/plain": [
       "'foofoofoofoo'"
      ]
     },
     "execution_count": 21,
     "metadata": {},
     "output_type": "execute_result"
    }
   ],
   "source": [
    "#*operator\n",
    "s*4"
   ]
  },
  {
   "cell_type": "code",
   "execution_count": 22,
   "id": "8ab61598",
   "metadata": {},
   "outputs": [
    {
     "name": "stdout",
     "output_type": "stream",
     "text": [
      "Reesa rosyid\n",
      "reesa rosyid\n",
      "rEeSa rOsYiD\n",
      "Reesa Rosyid\n",
      "REESA ROSYID\n"
     ]
    }
   ],
   "source": [
    "#Case conversion\n",
    "s = 'ReEsA RoSyId'\n",
    "#kapital\n",
    "print(s.capitalize())\n",
    "#kecil\n",
    "print(s.lower())\n",
    "#kebalikan\n",
    "print(s.swapcase())\n",
    "#judul\n",
    "print(s.title())\n",
    "#besar\n",
    "print(s.upper())\n"
   ]
  },
  {
   "cell_type": "code",
   "execution_count": 23,
   "id": "c28044d5",
   "metadata": {},
   "outputs": [],
   "source": [
    "### TIPE DATA MAJEMUK"
   ]
  },
  {
   "cell_type": "code",
   "execution_count": 24,
   "id": "3cb69bf2",
   "metadata": {},
   "outputs": [
    {
     "name": "stdout",
     "output_type": "stream",
     "text": [
      "['apple', 'banana', 'cherry']\n"
     ]
    }
   ],
   "source": [
    "thislist = [\"apple\", \"banana\", \"cherry\"]\n",
    "print(thislist)"
   ]
  },
  {
   "cell_type": "code",
   "execution_count": 27,
   "id": "6cd55a92",
   "metadata": {},
   "outputs": [
    {
     "data": {
      "text/plain": [
       "False"
      ]
     },
     "execution_count": 27,
     "metadata": {},
     "output_type": "execute_result"
    }
   ],
   "source": [
    "#List harus urut\n",
    "thislist = [\"apple\", \"banana\", \"cherry\"]\n",
    "thatlist = [\"banana\", \"cherry\", \"apple\"]\n",
    "thislist == thatlist"
   ]
  },
  {
   "cell_type": "code",
   "execution_count": 28,
   "id": "dd615c7e",
   "metadata": {},
   "outputs": [
    {
     "name": "stdout",
     "output_type": "stream",
     "text": [
      "[21.42, 'foobar', 3, 4, 'bark', False, 3.14]\n"
     ]
    }
   ],
   "source": [
    "#List dapat berisi banyak macam tipe data\n",
    "a = [21.42, 'foobar', 3, 4, 'bark', False, 3.14]\n",
    "print(a)"
   ]
  },
  {
   "cell_type": "code",
   "execution_count": 29,
   "id": "2b21eed2",
   "metadata": {},
   "outputs": [
    {
     "name": "stdout",
     "output_type": "stream",
     "text": [
      "21.42\n",
      "bark\n",
      "3.14\n",
      "foobar\n"
     ]
    }
   ],
   "source": [
    "#List dapat diakses melalui index\n",
    "a = [21.42, 'foobar', 3, 4, 'bark', False, 3.14]\n",
    "#dari depan\n",
    "print(a[0])\n",
    "print(a[4])\n",
    "#dari belakang\n",
    "print(a[-1])\n",
    "print(a[-6])"
   ]
  },
  {
   "cell_type": "code",
   "execution_count": 31,
   "id": "c23ab81a",
   "metadata": {},
   "outputs": [
    {
     "name": "stdout",
     "output_type": "stream",
     "text": [
      "['foobar', 3, 4]\n"
     ]
    }
   ],
   "source": [
    "#Akses list dengan jangkauan\n",
    "a = [21.42, 'foobar', 3, 4, 'bark', False, 3.14]\n",
    "print(a[1:4])"
   ]
  },
  {
   "cell_type": "code",
   "execution_count": 32,
   "id": "910077b6",
   "metadata": {},
   "outputs": [
    {
     "name": "stdout",
     "output_type": "stream",
     "text": [
      "[21.42, 'foobar', 3, 4, 'bark', False, 3.14, 'apple', 'banana']\n",
      "[21.42, 'foobar', 3, 4, 'bark', False, 3.14, 21.42, 'foobar', 3, 4, 'bark', False, 3.14]\n"
     ]
    }
   ],
   "source": [
    "#Konkatnasi (+) dan replikasi (*) pada list\n",
    "a = [21.42, 'foobar', 3, 4, 'bark', False, 3.14]\n",
    "print(a+['apple', 'banana'])\n",
    "print(a*2)"
   ]
  },
  {
   "cell_type": "code",
   "execution_count": 34,
   "id": "d2d41e4f",
   "metadata": {},
   "outputs": [
    {
     "name": "stdout",
     "output_type": "stream",
     "text": [
      "['apple', 'banana', 'cherry']\n",
      "3\n",
      "apple\n",
      "cherry\n"
     ]
    }
   ],
   "source": [
    "#Length, min, max\n",
    "b = [\"apple\", \"banana\", \"cherry\"]\n",
    "print(b)\n",
    "print(len(b))\n",
    "print(min(b))\n",
    "print(max(b))"
   ]
  },
  {
   "cell_type": "code",
   "execution_count": 35,
   "id": "f02a2e23",
   "metadata": {},
   "outputs": [
    {
     "name": "stdout",
     "output_type": "stream",
     "text": [
      "[21.42, 'foobar', 'Reesa', 4, 'bark', True, 3.14]\n"
     ]
    }
   ],
   "source": [
    "#Modifikasi value list\n",
    "a = [21.42, 'foobar', 3, 4, 'bark', False, 3.14]\n",
    "a[2] = 'Reesa'\n",
    "a[-2] = True\n",
    "print(a)"
   ]
  },
  {
   "cell_type": "code",
   "execution_count": 36,
   "id": "5532f7be",
   "metadata": {},
   "outputs": [
    {
     "name": "stdout",
     "output_type": "stream",
     "text": [
      "['foobar', 'Reesa', 4, 'bark', True, 3.14]\n"
     ]
    }
   ],
   "source": [
    "#Menghapus value list\n",
    "\n",
    "del a[0]\n",
    "print(a)"
   ]
  },
  {
   "cell_type": "code",
   "execution_count": 3,
   "id": "a6b8b25d",
   "metadata": {},
   "outputs": [
    {
     "name": "stdout",
     "output_type": "stream",
     "text": [
      "['apple', 'banana', 'cherry', 'orange']\n"
     ]
    }
   ],
   "source": [
    "#Menambah value list\n",
    "thislist = [\"apple\", \"banana\", \"cherry\"]\n",
    "thislist.append(\"orange\")\n",
    "print(thislist)"
   ]
  },
  {
   "cell_type": "code",
   "execution_count": 5,
   "id": "3c88089c",
   "metadata": {},
   "outputs": [
    {
     "name": "stdout",
     "output_type": "stream",
     "text": [
      "('foo', 'baz', 'qux')\n"
     ]
    }
   ],
   "source": [
    "t = ('foo', 'baz', 'qux')\n",
    "print(t)"
   ]
  },
  {
   "cell_type": "code",
   "execution_count": 6,
   "id": "06e23a8c",
   "metadata": {},
   "outputs": [
    {
     "name": "stdout",
     "output_type": "stream",
     "text": [
      "{'brand': 'Ford', 'model': 'Mustang', 'year': 1964}\n"
     ]
    }
   ],
   "source": [
    "thisdict = {\n",
    "  \"brand\": \"Ford\",\n",
    "  \"model\": \"Mustang\",\n",
    "  \"year\": 1964\n",
    "}\n",
    "print(thisdict)"
   ]
  }
 ],
 "metadata": {
  "kernelspec": {
   "display_name": "Python 3.9.12 ('base')",
   "language": "python",
   "name": "python3"
  },
  "language_info": {
   "codemirror_mode": {
    "name": "ipython",
    "version": 3
   },
   "file_extension": ".py",
   "mimetype": "text/x-python",
   "name": "python",
   "nbconvert_exporter": "python",
   "pygments_lexer": "ipython3",
   "version": "3.9.12"
  },
  "vscode": {
   "interpreter": {
    "hash": "605e79feae361950dbd45f41db9b56b8b7c86809966d24ff5b32dcf52a2f1739"
   }
  }
 },
 "nbformat": 4,
 "nbformat_minor": 5
}
